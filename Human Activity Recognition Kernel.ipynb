{
 "cells": [
  {
   "cell_type": "markdown",
   "metadata": {},
   "source": [
    "<h1><div style=\"text-align: center\"> Human Activity Recognition using Machine Learning </div></h1> "
   ]
  },
  {
   "cell_type": "markdown",
   "metadata": {},
   "source": [
    "## Contents\n",
    "<h3>1. Data Description </h3> \n",
    " --- (1) Feature Description<br />\n",
    " --- (2) Class Description<br />\n",
    " \n",
    "&ast; Baseline performance measure\n",
    "<h3>2. Preprocessing </h3> \n",
    "\n",
    "<h3>3. Feature Selection </h3> \n",
    " --- (1) RFECV (wrapper method)<br />\n",
    " --- (3) Embedded method<br />\n",
    " <h3>4. Model selection</h3> \n",
    " --- (1) Basic classifiers (Decision Tree, KNN, MLP, SVM)<br />\n",
    " --- (2) Ensemble (RandomForest, Bagging, Boosting, Stacking)<br />\n",
    "<br /><br />"
   ]
  },
  {
   "cell_type": "code",
   "execution_count": 1,
   "metadata": {},
   "outputs": [],
   "source": [
    "import numpy as np\n",
    "import pandas as pd\n",
    "import seaborn as sns\n",
    "import matplotlib.pyplot as plt\n",
    "\n",
    "from sklearn.dummy import DummyClassifier\n",
    "\n",
    "from sklearn import preprocessing\n",
    "from sklearn.preprocessing import LabelEncoder\n",
    "from sklearn.preprocessing import label_binarize\n",
    "\n",
    "from sklearn.metrics import f1_score,confusion_matrix\n",
    "from sklearn.metrics import accuracy_score\n",
    "from sklearn.metrics import confusion_matrix\n",
    "\n",
    "from sklearn.feature_selection import SelectKBest\n",
    "from sklearn.feature_selection import chi2\n",
    "from sklearn.feature_selection import RFE\n",
    "from sklearn.feature_selection import RFECV\n",
    "from sklearn.decomposition import PCA\n",
    "\n",
    "from sklearn import tree\n",
    "from sklearn.neighbors import KNeighborsClassifier\n",
    "from sklearn.naive_bayes import GaussianNB\n",
    "from sklearn.neural_network import MLPClassifier\n",
    "\n",
    "from sklearn.ensemble import RandomForestClassifier\n",
    "from sklearn.ensemble import BaggingClassifier\n",
    "from sklearn.ensemble import AdaBoostClassifier\n",
    "from sklearn.ensemble import VotingClassifier\n",
    "from sklearn.svm import SVC\n",
    "\n",
    "from sklearn.model_selection import GridSearchCV\n",
    "\n",
    "%matplotlib inline"
   ]
  },
  {
   "cell_type": "markdown",
   "metadata": {},
   "source": [
    "## 1. Data Description\n",
    "\n",
    "The experiments have been carried out with a group of 30 volunteers within an age bracket of 19-48 years.<br />\n",
    "Each person performed six activities (WALKING, WALKING_UPSTAIRS, WALKING_DOWNSTAIRS, SITTING, STANDING, LAYING) wearing a smartphone (Samsung Galaxy S II) on the waist.<br />\n",
    "https://www.kaggle.com/uciml/human-activity-recognition-with-smartphones"
   ]
  },
  {
   "cell_type": "code",
   "execution_count": 6,
   "metadata": {},
   "outputs": [],
   "source": [
    "data = pd.read_csv('train.csv')\n",
    "test_data = pd.read_csv('test.csv')"
   ]
  },
  {
   "cell_type": "code",
   "execution_count": 7,
   "metadata": {},
   "outputs": [
    {
     "data": {
      "text/html": [
       "<div>\n",
       "<style scoped>\n",
       "    .dataframe tbody tr th:only-of-type {\n",
       "        vertical-align: middle;\n",
       "    }\n",
       "\n",
       "    .dataframe tbody tr th {\n",
       "        vertical-align: top;\n",
       "    }\n",
       "\n",
       "    .dataframe thead th {\n",
       "        text-align: right;\n",
       "    }\n",
       "</style>\n",
       "<table border=\"1\" class=\"dataframe\">\n",
       "  <thead>\n",
       "    <tr style=\"text-align: right;\">\n",
       "      <th></th>\n",
       "      <th>tBodyAcc-mean()-X</th>\n",
       "      <th>tBodyAcc-mean()-Y</th>\n",
       "      <th>tBodyAcc-mean()-Z</th>\n",
       "      <th>tBodyAcc-std()-X</th>\n",
       "      <th>tBodyAcc-std()-Y</th>\n",
       "      <th>tBodyAcc-std()-Z</th>\n",
       "      <th>tBodyAcc-mad()-X</th>\n",
       "      <th>tBodyAcc-mad()-Y</th>\n",
       "      <th>tBodyAcc-mad()-Z</th>\n",
       "      <th>tBodyAcc-max()-X</th>\n",
       "      <th>...</th>\n",
       "      <th>fBodyBodyGyroJerkMag-kurtosis()</th>\n",
       "      <th>angle(tBodyAccMean,gravity)</th>\n",
       "      <th>angle(tBodyAccJerkMean),gravityMean)</th>\n",
       "      <th>angle(tBodyGyroMean,gravityMean)</th>\n",
       "      <th>angle(tBodyGyroJerkMean,gravityMean)</th>\n",
       "      <th>angle(X,gravityMean)</th>\n",
       "      <th>angle(Y,gravityMean)</th>\n",
       "      <th>angle(Z,gravityMean)</th>\n",
       "      <th>subject</th>\n",
       "      <th>Activity</th>\n",
       "    </tr>\n",
       "  </thead>\n",
       "  <tbody>\n",
       "    <tr>\n",
       "      <th>0</th>\n",
       "      <td>0.288585</td>\n",
       "      <td>-0.020294</td>\n",
       "      <td>-0.132905</td>\n",
       "      <td>-0.995279</td>\n",
       "      <td>-0.983111</td>\n",
       "      <td>-0.913526</td>\n",
       "      <td>-0.995112</td>\n",
       "      <td>-0.983185</td>\n",
       "      <td>-0.923527</td>\n",
       "      <td>-0.934724</td>\n",
       "      <td>...</td>\n",
       "      <td>-0.710304</td>\n",
       "      <td>-0.112754</td>\n",
       "      <td>0.030400</td>\n",
       "      <td>-0.464761</td>\n",
       "      <td>-0.018446</td>\n",
       "      <td>-0.841247</td>\n",
       "      <td>0.179941</td>\n",
       "      <td>-0.058627</td>\n",
       "      <td>1</td>\n",
       "      <td>STANDING</td>\n",
       "    </tr>\n",
       "    <tr>\n",
       "      <th>1</th>\n",
       "      <td>0.278419</td>\n",
       "      <td>-0.016411</td>\n",
       "      <td>-0.123520</td>\n",
       "      <td>-0.998245</td>\n",
       "      <td>-0.975300</td>\n",
       "      <td>-0.960322</td>\n",
       "      <td>-0.998807</td>\n",
       "      <td>-0.974914</td>\n",
       "      <td>-0.957686</td>\n",
       "      <td>-0.943068</td>\n",
       "      <td>...</td>\n",
       "      <td>-0.861499</td>\n",
       "      <td>0.053477</td>\n",
       "      <td>-0.007435</td>\n",
       "      <td>-0.732626</td>\n",
       "      <td>0.703511</td>\n",
       "      <td>-0.844788</td>\n",
       "      <td>0.180289</td>\n",
       "      <td>-0.054317</td>\n",
       "      <td>1</td>\n",
       "      <td>STANDING</td>\n",
       "    </tr>\n",
       "    <tr>\n",
       "      <th>2</th>\n",
       "      <td>0.279653</td>\n",
       "      <td>-0.019467</td>\n",
       "      <td>-0.113462</td>\n",
       "      <td>-0.995380</td>\n",
       "      <td>-0.967187</td>\n",
       "      <td>-0.978944</td>\n",
       "      <td>-0.996520</td>\n",
       "      <td>-0.963668</td>\n",
       "      <td>-0.977469</td>\n",
       "      <td>-0.938692</td>\n",
       "      <td>...</td>\n",
       "      <td>-0.760104</td>\n",
       "      <td>-0.118559</td>\n",
       "      <td>0.177899</td>\n",
       "      <td>0.100699</td>\n",
       "      <td>0.808529</td>\n",
       "      <td>-0.848933</td>\n",
       "      <td>0.180637</td>\n",
       "      <td>-0.049118</td>\n",
       "      <td>1</td>\n",
       "      <td>STANDING</td>\n",
       "    </tr>\n",
       "    <tr>\n",
       "      <th>3</th>\n",
       "      <td>0.279174</td>\n",
       "      <td>-0.026201</td>\n",
       "      <td>-0.123283</td>\n",
       "      <td>-0.996091</td>\n",
       "      <td>-0.983403</td>\n",
       "      <td>-0.990675</td>\n",
       "      <td>-0.997099</td>\n",
       "      <td>-0.982750</td>\n",
       "      <td>-0.989302</td>\n",
       "      <td>-0.938692</td>\n",
       "      <td>...</td>\n",
       "      <td>-0.482845</td>\n",
       "      <td>-0.036788</td>\n",
       "      <td>-0.012892</td>\n",
       "      <td>0.640011</td>\n",
       "      <td>-0.485366</td>\n",
       "      <td>-0.848649</td>\n",
       "      <td>0.181935</td>\n",
       "      <td>-0.047663</td>\n",
       "      <td>1</td>\n",
       "      <td>STANDING</td>\n",
       "    </tr>\n",
       "    <tr>\n",
       "      <th>4</th>\n",
       "      <td>0.276629</td>\n",
       "      <td>-0.016570</td>\n",
       "      <td>-0.115362</td>\n",
       "      <td>-0.998139</td>\n",
       "      <td>-0.980817</td>\n",
       "      <td>-0.990482</td>\n",
       "      <td>-0.998321</td>\n",
       "      <td>-0.979672</td>\n",
       "      <td>-0.990441</td>\n",
       "      <td>-0.942469</td>\n",
       "      <td>...</td>\n",
       "      <td>-0.699205</td>\n",
       "      <td>0.123320</td>\n",
       "      <td>0.122542</td>\n",
       "      <td>0.693578</td>\n",
       "      <td>-0.615971</td>\n",
       "      <td>-0.847865</td>\n",
       "      <td>0.185151</td>\n",
       "      <td>-0.043892</td>\n",
       "      <td>1</td>\n",
       "      <td>STANDING</td>\n",
       "    </tr>\n",
       "  </tbody>\n",
       "</table>\n",
       "<p>5 rows × 563 columns</p>\n",
       "</div>"
      ],
      "text/plain": [
       "   tBodyAcc-mean()-X  tBodyAcc-mean()-Y  tBodyAcc-mean()-Z  tBodyAcc-std()-X  \\\n",
       "0           0.288585          -0.020294          -0.132905         -0.995279   \n",
       "1           0.278419          -0.016411          -0.123520         -0.998245   \n",
       "2           0.279653          -0.019467          -0.113462         -0.995380   \n",
       "3           0.279174          -0.026201          -0.123283         -0.996091   \n",
       "4           0.276629          -0.016570          -0.115362         -0.998139   \n",
       "\n",
       "   tBodyAcc-std()-Y  tBodyAcc-std()-Z  tBodyAcc-mad()-X  tBodyAcc-mad()-Y  \\\n",
       "0         -0.983111         -0.913526         -0.995112         -0.983185   \n",
       "1         -0.975300         -0.960322         -0.998807         -0.974914   \n",
       "2         -0.967187         -0.978944         -0.996520         -0.963668   \n",
       "3         -0.983403         -0.990675         -0.997099         -0.982750   \n",
       "4         -0.980817         -0.990482         -0.998321         -0.979672   \n",
       "\n",
       "   tBodyAcc-mad()-Z  tBodyAcc-max()-X    ...     \\\n",
       "0         -0.923527         -0.934724    ...      \n",
       "1         -0.957686         -0.943068    ...      \n",
       "2         -0.977469         -0.938692    ...      \n",
       "3         -0.989302         -0.938692    ...      \n",
       "4         -0.990441         -0.942469    ...      \n",
       "\n",
       "   fBodyBodyGyroJerkMag-kurtosis()  angle(tBodyAccMean,gravity)  \\\n",
       "0                        -0.710304                    -0.112754   \n",
       "1                        -0.861499                     0.053477   \n",
       "2                        -0.760104                    -0.118559   \n",
       "3                        -0.482845                    -0.036788   \n",
       "4                        -0.699205                     0.123320   \n",
       "\n",
       "   angle(tBodyAccJerkMean),gravityMean)  angle(tBodyGyroMean,gravityMean)  \\\n",
       "0                              0.030400                         -0.464761   \n",
       "1                             -0.007435                         -0.732626   \n",
       "2                              0.177899                          0.100699   \n",
       "3                             -0.012892                          0.640011   \n",
       "4                              0.122542                          0.693578   \n",
       "\n",
       "   angle(tBodyGyroJerkMean,gravityMean)  angle(X,gravityMean)  \\\n",
       "0                             -0.018446             -0.841247   \n",
       "1                              0.703511             -0.844788   \n",
       "2                              0.808529             -0.848933   \n",
       "3                             -0.485366             -0.848649   \n",
       "4                             -0.615971             -0.847865   \n",
       "\n",
       "   angle(Y,gravityMean)  angle(Z,gravityMean)  subject  Activity  \n",
       "0              0.179941             -0.058627        1  STANDING  \n",
       "1              0.180289             -0.054317        1  STANDING  \n",
       "2              0.180637             -0.049118        1  STANDING  \n",
       "3              0.181935             -0.047663        1  STANDING  \n",
       "4              0.185151             -0.043892        1  STANDING  \n",
       "\n",
       "[5 rows x 563 columns]"
      ]
     },
     "execution_count": 7,
     "metadata": {},
     "output_type": "execute_result"
    }
   ],
   "source": [
    "data.head()"
   ]
  },
  {
   "cell_type": "code",
   "execution_count": 8,
   "metadata": {},
   "outputs": [],
   "source": [
    "X = data.iloc[:,:-2] # features\n",
    "y = data.iloc[:,-1]  # class\n",
    "\n",
    "X_test = test_data.iloc[:,:-2] # features\n",
    "y_test = test_data.iloc[:,-1]  # class"
   ]
  },
  {
   "cell_type": "markdown",
   "metadata": {},
   "source": [
    "### 1 - (1) Feature Description"
   ]
  },
  {
   "cell_type": "code",
   "execution_count": 9,
   "metadata": {},
   "outputs": [
    {
     "name": "stdout",
     "output_type": "stream",
     "text": [
      "<class 'pandas.core.frame.DataFrame'>\n",
      "RangeIndex: 7352 entries, 0 to 7351\n",
      "Columns: 561 entries, tBodyAcc-mean()-X to angle(Z,gravityMean)\n",
      "dtypes: float64(561)\n",
      "memory usage: 31.5 MB\n"
     ]
    }
   ],
   "source": [
    "X.info()"
   ]
  },
  {
   "cell_type": "code",
   "execution_count": 10,
   "metadata": {},
   "outputs": [],
   "source": [
    "feature_names = X.columns"
   ]
  },
  {
   "cell_type": "markdown",
   "metadata": {},
   "source": [
    "Total number of features : 561, including<br />\n",
    "triaxial acceleration from the accelerometer (total acceleration) and the estimated body acceleration,<br />\n",
    "triaxial Angular velocity from the gyroscope,<br />\n",
    "a 561-feature vector with time and frequency domain variables."
   ]
  },
  {
   "cell_type": "markdown",
   "metadata": {},
   "source": [
    "### 1 - (2) Class Description\n",
    "Activity class<br />\n",
    "6 classes : WALKING, WALKING_UPSTAIRS, WALKING_DOWNSTAIRS, SITTING, STANDING, LAYING <br />"
   ]
  },
  {
   "cell_type": "code",
   "execution_count": 44,
   "metadata": {
    "scrolled": true
   },
   "outputs": [
    {
     "data": {
      "text/plain": [
       "array(['STANDING', 'SITTING', 'LAYING', 'WALKING', 'WALKING_DOWNSTAIRS',\n",
       "       'WALKING_UPSTAIRS'], dtype=object)"
      ]
     },
     "execution_count": 44,
     "metadata": {},
     "output_type": "execute_result"
    }
   ],
   "source": [
    "data.Activity.unique()"
   ]
  },
  {
   "cell_type": "code",
   "execution_count": 45,
   "metadata": {},
   "outputs": [],
   "source": [
    "class_names = ['STANDING', 'SITTING', 'LAYING', 'WALKING', 'WALKING_DOWNSTAIRS', 'WALKING_UPSTAIRS']"
   ]
  },
  {
   "cell_type": "code",
   "execution_count": 46,
   "metadata": {},
   "outputs": [
    {
     "data": {
      "text/plain": [
       "LAYING                1407\n",
       "STANDING              1374\n",
       "SITTING               1286\n",
       "WALKING               1226\n",
       "WALKING_UPSTAIRS      1073\n",
       "WALKING_DOWNSTAIRS     986\n",
       "Name: Activity, dtype: int64"
      ]
     },
     "execution_count": 46,
     "metadata": {},
     "output_type": "execute_result"
    }
   ],
   "source": [
    "y.value_counts()"
   ]
  },
  {
   "cell_type": "code",
   "execution_count": 49,
   "metadata": {},
   "outputs": [
    {
     "data": {
      "image/png": "[encoded data removed]",
      "text/plain": [
       "<matplotlib.figure.Figure at 0x1dab577bb00>"
      ]
     },
     "metadata": {},
     "output_type": "display_data"
    }
   ],
   "source": [
    "plt.figure(figsize=(14,5))\n",
    "ax = sns.countplot(y, label = \"Count\", palette = \"Set3\")\n",
    "LAYING, STANDING, SITTING, WALKING, WALKING_UPSTAIRS, WALKING_DOWNSTAIRS = y.value_counts()"
   ]
  },
  {
   "cell_type": "markdown",
   "metadata": {},
   "source": [
    "### &ast; Baseline performance measure"
   ]
  },
  {
   "cell_type": "markdown",
   "metadata": {},
   "source": [
    "\n",
    "Dummy classifier is used to measure baseline performance.<br />\n",
    "DummyClassifier is a classifier that makes predictions using simple rules.<br />\n",
    "Below are the baseline performance using \"most_frequent\" strategy.<br />\n",
    "The model that will be developed later on should show better performance than this.<br />"
   ]
  },
  {
   "cell_type": "code",
   "execution_count": 50,
   "metadata": {
    "scrolled": true
   },
   "outputs": [
    {
     "data": {
      "text/plain": [
       "0.18221920597217509"
      ]
     },
     "execution_count": 50,
     "metadata": {},
     "output_type": "execute_result"
    }
   ],
   "source": [
    "dummy_classifier = DummyClassifier(strategy=\"most_frequent\")\n",
    "y_pred = dummy_classifier.fit(X, y).predict(X_test)\n",
    "dummy_classifier.score(X_test, y_test)"
   ]
  },
  {
   "cell_type": "code",
   "execution_count": 51,
   "metadata": {},
   "outputs": [
    {
     "data": {
      "text/plain": [
       "<matplotlib.axes._subplots.AxesSubplot at 0x1dab56cf278>"
      ]
     },
     "execution_count": 51,
     "metadata": {},
     "output_type": "execute_result"
    },
    {
     "data": {
      "image/png": "[encoded data removed]",
      "text/plain": [
       "<matplotlib.figure.Figure at 0x1dab56b1240>"
      ]
     },
     "metadata": {},
     "output_type": "display_data"
    }
   ],
   "source": [
    "cm = confusion_matrix(y_test, dummy_classifier.predict(X_test), labels = class_names)\n",
    "sns.heatmap(cm, annot=True, fmt=\"d\", xticklabels = class_names, yticklabels = class_names)"
   ]
  },
  {
   "cell_type": "markdown",
   "metadata": {},
   "source": [
    "The most frequent class in this training set is LAYING. <br />\n",
    "When you classify every instance in the training set into LAYING class, the accuracy is about 18.2%."
   ]
  },
  {
   "cell_type": "markdown",
   "metadata": {},
   "source": [
    "## 2. Preprocessing"
   ]
  },
  {
   "cell_type": "markdown",
   "metadata": {},
   "source": [
    "We don't need one-hot encoding here since all the features we've got are numerical values.<br />\n",
    "Also, no scaling is needed since all the values are already normalized within the range between -1 and 1."
   ]
  },
  {
   "cell_type": "markdown",
   "metadata": {},
   "source": [
    "## 3. Feature Selection"
   ]
  },
  {
   "cell_type": "markdown",
   "metadata": {},
   "source": [
    "Sometimes, it's better to use only some of the given features.<br />\n",
    "Too many features cause high complexity and overfitting!<br />\n",
    "\n",
    "There are several feature selection methods,<br />\n",
    "(1) Feature subset selection,<br />\n",
    "(2) PCA,<br />\n",
    "\n",
    "and among feature subset selection methods are filter method, wrapper method, embedded method."
   ]
  },
  {
   "cell_type": "markdown",
   "metadata": {},
   "source": [
    "### 3 - (1) RFECV (wrapper method)\n",
    "Recursive Feature Elimination(RFE) is a wrapper method for feature selection.<br />\n",
    "RFECV gives feature ranking with recursive feature elimination and the optimal number of features."
   ]
  },
  {
   "cell_type": "code",
   "execution_count": 53,
   "metadata": {
    "scrolled": false
   },
   "outputs": [
    {
     "name": "stdout",
     "output_type": "stream",
     "text": [
      "Optimal number of features : 359\n",
      "Best features : Index(['tBodyAcc-std()-X', 'tBodyAcc-std()-Z', 'tBodyAcc-mad()-X',\n",
      "       'tBodyAcc-mad()-Y', 'tBodyAcc-mad()-Z', 'tBodyAcc-max()-X',\n",
      "       'tBodyAcc-max()-Y', 'tBodyAcc-max()-Z', 'tBodyAcc-min()-Y',\n",
      "       'tBodyAcc-min()-Z',\n",
      "       ...\n",
      "       'fBodyBodyGyroJerkMag-std()', 'fBodyBodyGyroJerkMag-max()',\n",
      "       'fBodyBodyGyroJerkMag-meanFreq()', 'fBodyBodyGyroJerkMag-skewness()',\n",
      "       'fBodyBodyGyroJerkMag-kurtosis()', 'angle(tBodyGyroMean,gravityMean)',\n",
      "       'angle(tBodyGyroJerkMean,gravityMean)', 'angle(X,gravityMean)',\n",
      "       'angle(Y,gravityMean)', 'angle(Z,gravityMean)'],\n",
      "      dtype='object', length=359)\n"
     ]
    }
   ],
   "source": [
    "rf_for_refcv = RandomForestClassifier() \n",
    "rfecv0 = RFECV(estimator = rf_for_refcv, step = 1, cv = 5, scoring = 'accuracy')   #5-fold cross-validation\n",
    "rfecv0 = rfecv0.fit(X, y)\n",
    "\n",
    "print('Optimal number of features :', rfecv0.n_features_)\n",
    "print('Best features :', X.columns[rfecv0.support_])"
   ]
  },
  {
   "cell_type": "code",
   "execution_count": 60,
   "metadata": {},
   "outputs": [],
   "source": [
    "rfecv_X = X[X.columns[rfecv0.support_]]  # rfecv_X.shape = (7352, 359)\n",
    "rfecv_X_test = X_test[X.columns[rfecv0.support_]]  # rfecv_X_test.shape = (2947, 359)"
   ]
  },
  {
   "cell_type": "markdown",
   "metadata": {},
   "source": [
    "### 3 - (2) Embedded method"
   ]
  },
  {
   "cell_type": "markdown",
   "metadata": {},
   "source": [
    "Embedded method finds the optimal feature subset during model training.<br />\n",
    "Below is the Random Forest example. Random Forest is an ensemble learning method using multiple decision trees.<br />\n",
    "Constructed decision tree identifies the most significant variables and it gives us some information about feature importances."
   ]
  },
  {
   "cell_type": "code",
   "execution_count": 63,
   "metadata": {},
   "outputs": [
    {
     "name": "stdout",
     "output_type": "stream",
     "text": [
      "Feature ranking:\n",
      "1. fBodyAccJerk-bandsEnergy()-1,16.1 (0.059744)\n",
      "2. angle(X,gravityMean) (0.041564)\n",
      "3. tGravityAcc-energy()-Y (0.038379)\n",
      "4. angle(Y,gravityMean) (0.031127)\n",
      "5. tBodyAcc-correlation()-X,Y (0.025182)\n",
      "6. tGravityAcc-mean()-Z (0.024143)\n",
      "7. tGravityAcc-max()-Y (0.022795)\n",
      "8. tGravityAcc-mean()-Y (0.022411)\n",
      "9. tBodyAccJerkMag-mean() (0.020459)\n",
      "10. fBodyAccJerk-bandsEnergy()-1,16 (0.020405)\n",
      "11. fBodyAcc-sma() (0.020198)\n",
      "12. fBodyAccJerk-max()-X (0.019989)\n",
      "13. tBodyAccJerk-mad()-X (0.019986)\n",
      "14. fBodyAccJerk-bandsEnergy()-1,24 (0.019944)\n",
      "15. fBodyAccJerk-entropy()-Y (0.019873)\n",
      "16. tGravityAcc-arCoeff()-X,1 (0.018595)\n",
      "17. tGravityAcc-arCoeff()-Z,2 (0.017423)\n",
      "18. tGravityAcc-energy()-Z (0.016781)\n",
      "19. tGravityAcc-max()-Z (0.015592)\n",
      "20. tGravityAccMag-std() (0.014618)\n",
      "21. tGravityAcc-mean()-X (0.014378)\n",
      "22. angle(Z,gravityMean) (0.014138)\n",
      "23. tGravityAcc-arCoeff()-Z,3 (0.013803)\n",
      "24. tGravityAcc-entropy()-Y (0.013607)\n",
      "25. tGravityAcc-arCoeff()-Y,1 (0.013434)\n",
      "26. tGravityAccMag-arCoeff()1 (0.013217)\n",
      "27. fBodyAcc-mad()-X (0.012911)\n",
      "28. fBodyAccMag-mad() (0.011965)\n",
      "29. tBodyAcc-energy()-X (0.011877)\n",
      "30. tGravityAcc-min()-Y (0.011471)\n",
      "31. fBodyAccJerk-maxInds-Z (0.011410)\n",
      "32. tGravityAcc-energy()-X (0.011193)\n",
      "33. fBodyAcc-bandsEnergy()-1,24 (0.010978)\n",
      "34. tGravityAccMag-mad() (0.010708)\n",
      "35. tGravityAcc-max()-X (0.009509)\n",
      "36. tBodyAcc-correlation()-Y,Z (0.008802)\n",
      "37. tBodyGyro-iqr()-X (0.008088)\n",
      "38. tBodyAccMag-max() (0.008031)\n",
      "39. fBodyAccJerk-bandsEnergy()-1,8 (0.007953)\n",
      "40. tGravityAcc-min()-X (0.006784)\n",
      "41. tGravityAcc-min()-Z (0.006378)\n",
      "42. tGravityAcc-arCoeff()-Y,2 (0.006109)\n",
      "43. fBodyAcc-max()-X (0.005930)\n",
      "44. tGravityAccMag-mean() (0.005784)\n",
      "45. fBodyAcc-bandsEnergy()-17,32.2 (0.005489)\n",
      "46. fBodyAccMag-energy() (0.005076)\n",
      "47. fBodyGyro-bandsEnergy()-1,24 (0.004746)\n",
      "48. tGravityAcc-arCoeff()-X,3 (0.004744)\n",
      "49. tGravityAcc-correlation()-X,Y (0.004516)\n",
      "50. fBodyAcc-energy()-X (0.004056)\n",
      "51. tGravityAcc-arCoeff()-Y,3 (0.004014)\n",
      "52. tGravityAcc-mad()-X (0.003733)\n",
      "53. tGravityAcc-sma() (0.003612)\n",
      "54. fBodyAccMag-std() (0.003468)\n",
      "55. tBodyGyro-std()-X (0.003297)\n",
      "56. tBodyGyro-max()-X (0.003281)\n",
      "57. fBodyGyro-std()-X (0.003191)\n",
      "58. fBodyGyro-meanFreq()-X (0.002557)\n",
      "59. fBodyAcc-bandsEnergy()-1,8 (0.002428)\n",
      "60. tGravityAcc-arCoeff()-Y,4 (0.002389)\n",
      "61. tBodyAcc-max()-X (0.002305)\n",
      "62. tBodyAccMag-arCoeff()1 (0.002298)\n",
      "63. tBodyGyro-mad()-X (0.002272)\n",
      "64. tBodyGyroJerk-std()-X (0.002210)\n",
      "65. tBodyGyroJerk-iqr()-X (0.002017)\n",
      "66. fBodyAcc-kurtosis()-Y (0.002009)\n",
      "67. fBodyGyro-bandsEnergy()-33,48 (0.001997)\n",
      "68. tBodyGyro-min()-Z (0.001846)\n",
      "69. fBodyGyro-bandsEnergy()-1,8 (0.001816)\n",
      "70. tGravityAcc-arCoeff()-X,2 (0.001806)\n",
      "71. fBodyGyro-energy()-Z (0.001767)\n",
      "72. tBodyGyro-entropy()-X (0.001734)\n",
      "73. tBodyAccJerk-correlation()-X,Y (0.001723)\n",
      "74. fBodyAccMag-mean() (0.001650)\n",
      "75. tBodyGyro-mad()-Z (0.001643)\n",
      "76. tGravityAcc-entropy()-X (0.001635)\n",
      "77. tBodyGyroJerk-arCoeff()-X,1 (0.001619)\n",
      "78. fBodyGyro-skewness()-Z (0.001608)\n",
      "79. fBodyAccMag-sma() (0.001597)\n",
      "80. tBodyGyro-mad()-Y (0.001588)\n",
      "81. fBodyAccJerk-mean()-Y (0.001583)\n",
      "82. fBodyBodyGyroMag-meanFreq() (0.001576)\n",
      "83. tBodyGyro-arCoeff()-X,1 (0.001549)\n",
      "84. fBodyAccJerk-bandsEnergy()-17,32.2 (0.001547)\n",
      "85. fBodyGyro-max()-X (0.001534)\n",
      "86. tBodyGyroJerk-mean()-X (0.001532)\n",
      "87. tBodyGyro-min()-X (0.001530)\n",
      "88. fBodyGyro-bandsEnergy()-1,8.1 (0.001526)\n",
      "89. tBodyAcc-entropy()-X (0.001477)\n",
      "90. fBodyAcc-energy()-Y (0.001453)\n",
      "91. fBodyBodyAccJerkMag-skewness() (0.001447)\n",
      "92. tBodyAccMag-std() (0.001367)\n",
      "93. tBodyAccJerk-entropy()-X (0.001366)\n",
      "94. tGravityAcc-iqr()-X (0.001307)\n",
      "95. fBodyGyro-bandsEnergy()-1,16 (0.001292)\n",
      "96. fBodyAcc-bandsEnergy()-1,8.1 (0.001266)\n",
      "97. fBodyGyro-bandsEnergy()-17,32.2 (0.001255)\n",
      "98. fBodyGyro-mad()-X (0.001160)\n",
      "99. fBodyGyro-max()-Z (0.001157)\n",
      "100. tBodyGyroJerk-energy()-X (0.001134)\n",
      "101. fBodyAcc-bandsEnergy()-25,32.2 (0.001104)\n",
      "102. fBodyAcc-std()-X (0.001102)\n",
      "103. tBodyAccJerk-max()-Z (0.001098)\n",
      "104. tBodyGyroJerk-correlation()-Y,Z (0.001095)\n",
      "105. fBodyAcc-max()-Z (0.001094)\n",
      "106. fBodyAcc-meanFreq()-Z (0.001089)\n",
      "107. tBodyGyroJerk-arCoeff()-X,3 (0.001083)\n",
      "108. fBodyGyro-mean()-X (0.001069)\n",
      "109. tBodyGyro-correlation()-Y,Z (0.001052)\n",
      "110. tBodyAccMag-sma() (0.001052)\n",
      "111. tBodyAcc-std()-X (0.001018)\n",
      "112. tBodyGyro-energy()-X (0.001014)\n",
      "113. fBodyGyro-mad()-Y (0.000979)\n",
      "114. tBodyGyroJerk-min()-X (0.000967)\n",
      "115. tBodyGyro-correlation()-X,Z (0.000957)\n",
      "116. fBodyGyro-max()-Y (0.000935)\n",
      "117. fBodyAccMag-max() (0.000907)\n",
      "118. fBodyGyro-kurtosis()-Z (0.000906)\n",
      "119. tBodyAccMag-arCoeff()2 (0.000900)\n",
      "120. tBodyAccMag-mad() (0.000877)\n",
      "121. tBodyGyro-mean()-X (0.000868)\n",
      "122. tBodyGyro-energy()-Y (0.000820)\n",
      "123. fBodyGyro-maxInds-Z (0.000819)\n",
      "124. tBodyGyroJerk-mad()-X (0.000805)\n",
      "125. tGravityAcc-correlation()-X,Z (0.000797)\n",
      "126. tGravityAcc-arCoeff()-Z,4 (0.000791)\n",
      "127. fBodyGyro-bandsEnergy()-25,48.2 (0.000788)\n",
      "128. fBodyGyro-bandsEnergy()-1,24.2 (0.000780)\n",
      "129. fBodyBodyGyroJerkMag-mad() (0.000768)\n",
      "130. tBodyGyro-entropy()-Y (0.000767)\n",
      "131. tGravityAcc-arCoeff()-X,4 (0.000756)\n",
      "132. tBodyGyro-arCoeff()-Z,1 (0.000747)\n",
      "133. tBodyAcc-correlation()-X,Z (0.000746)\n",
      "134. tBodyGyroJerk-arCoeff()-Y,1 (0.000737)\n",
      "135. tBodyGyro-max()-Z (0.000734)\n",
      "136. fBodyAcc-std()-Y (0.000734)\n",
      "137. fBodyAcc-bandsEnergy()-1,16.1 (0.000732)\n",
      "138. tBodyGyroJerk-iqr()-Y (0.000720)\n",
      "139. tBodyAccJerk-correlation()-X,Z (0.000717)\n",
      "140. fBodyAcc-bandsEnergy()-17,24.2 (0.000706)\n",
      "141. fBodyBodyAccJerkMag-std() (0.000704)\n",
      "142. tBodyGyroJerk-correlation()-X,Y (0.000701)\n",
      "143. fBodyGyro-skewness()-Y (0.000679)\n",
      "144. fBodyAccJerk-energy()-Z (0.000674)\n",
      "145. fBodyAcc-bandsEnergy()-1,24.2 (0.000673)\n",
      "146. tGravityAcc-arCoeff()-Z,1 (0.000671)\n",
      "147. fBodyGyro-iqr()-Y (0.000663)\n",
      "148. tBodyAccJerkMag-mad() (0.000658)\n",
      "149. tBodyAcc-mad()-Y (0.000651)\n",
      "150. fBodyAcc-maxInds-Z (0.000650)\n",
      "151. fBodyAccJerk-mad()-Z (0.000649)\n",
      "152. fBodyBodyGyroMag-kurtosis() (0.000645)\n",
      "153. tGravityAcc-iqr()-Y (0.000639)\n",
      "154. tBodyAccJerkMag-entropy() (0.000621)\n",
      "155. tBodyGyroJerkMag-mean() (0.000620)\n",
      "156. tBodyAccJerk-energy()-X (0.000615)\n",
      "157. fBodyAcc-mean()-Z (0.000606)\n",
      "158. fBodyAccJerk-meanFreq()-Z (0.000603)\n",
      "159. fBodyAccJerk-mean()-X (0.000602)\n",
      "160. fBodyGyro-bandsEnergy()-17,24 (0.000602)\n",
      "161. tBodyAccJerkMag-max() (0.000592)\n",
      "162. fBodyGyro-energy()-X (0.000592)\n",
      "163. fBodyAcc-mean()-X (0.000584)\n",
      "164. fBodyGyro-bandsEnergy()-1,24.1 (0.000581)\n",
      "165. fBodyAcc-skewness()-Y (0.000581)\n",
      "166. fBodyAccJerk-bandsEnergy()-1,16.2 (0.000579)\n",
      "167. fBodyGyro-bandsEnergy()-33,40 (0.000578)\n",
      "168. tBodyAccJerk-mad()-Y (0.000577)\n",
      "169. fBodyBodyAccJerkMag-kurtosis() (0.000573)\n",
      "170. fBodyGyro-bandsEnergy()-41,48.2 (0.000568)\n",
      "171. tBodyGyro-entropy()-Z (0.000564)\n",
      "172. fBodyGyro-bandsEnergy()-25,48.1 (0.000558)\n",
      "173. tBodyAcc-iqr()-X (0.000555)\n",
      "174. tBodyAccJerk-arCoeff()-X,1 (0.000551)\n",
      "175. fBodyAccMag-meanFreq() (0.000550)\n",
      "176. fBodyBodyGyroJerkMag-skewness() (0.000549)\n",
      "177. tGravityAccMag-sma() (0.000546)\n",
      "178. tBodyGyroJerk-energy()-Z (0.000545)\n",
      "179. tBodyGyroJerkMag-iqr() (0.000545)\n",
      "180. tBodyAccJerkMag-iqr() (0.000544)\n",
      "181. fBodyAccJerk-kurtosis()-X (0.000544)\n",
      "182. tGravityAcc-std()-Y (0.000540)\n",
      "183. tBodyAccJerk-max()-Y (0.000536)\n",
      "184. fBodyAccJerk-skewness()-Y (0.000535)\n",
      "185. fBodyAccJerk-std()-Z (0.000522)\n",
      "186. tBodyGyro-min()-Y (0.000521)\n",
      "187. fBodyAccJerk-bandsEnergy()-17,24.2 (0.000514)\n",
      "188. fBodyAcc-bandsEnergy()-17,32.1 (0.000509)\n",
      "189. fBodyGyro-mad()-Z (0.000500)\n",
      "190. tBodyAccJerk-arCoeff()-Y,3 (0.000495)\n",
      "191. tBodyAccJerk-iqr()-Z (0.000494)\n",
      "192. fBodyAccJerk-mad()-X (0.000493)\n",
      "193. fBodyAcc-skewness()-Z (0.000492)\n",
      "194. fBodyAcc-mean()-Y (0.000479)\n",
      "195. tBodyAccJerk-entropy()-Z (0.000472)\n",
      "196. tBodyGyro-arCoeff()-Y,1 (0.000472)\n",
      "197. fBodyAcc-iqr()-X (0.000468)\n",
      "198. fBodyGyro-mean()-Y (0.000468)\n",
      "199. fBodyGyro-bandsEnergy()-1,16.1 (0.000459)\n",
      "200. tGravityAcc-mad()-Y (0.000454)\n",
      "201. tBodyGyroJerk-energy()-Y (0.000452)\n",
      "202. tBodyAccJerk-arCoeff()-Z,2 (0.000452)\n",
      "203. tBodyGyro-std()-Z (0.000445)\n",
      "204. tGravityAccMag-arCoeff()2 (0.000445)\n",
      "205. tBodyAcc-energy()-Y (0.000443)\n",
      "206. tBodyAccJerk-std()-Y (0.000438)\n",
      "207. tBodyAccMag-iqr() (0.000437)\n",
      "208. tBodyAcc-mean()-Y (0.000436)\n",
      "209. tBodyAcc-max()-Z (0.000431)\n",
      "210. tBodyAccJerk-min()-Z (0.000428)\n",
      "211. tBodyAcc-mad()-X (0.000427)\n",
      "212. tBodyGyroMag-arCoeff()1 (0.000422)\n",
      "213. tBodyGyroMag-iqr() (0.000418)\n",
      "214. tBodyGyroJerk-max()-X (0.000414)\n",
      "215. tBodyGyroJerkMag-mad() (0.000414)\n",
      "216. tBodyGyro-iqr()-Z (0.000412)\n",
      "217. tBodyGyroJerk-arCoeff()-Z,3 (0.000405)\n",
      "218. fBodyAcc-max()-Y (0.000405)\n",
      "219. fBodyGyro-std()-Z (0.000404)\n",
      "220. fBodyAcc-bandsEnergy()-9,16.2 (0.000403)\n",
      "221. tBodyAccMag-energy() (0.000400)\n",
      "222. tBodyGyro-arCoeff()-Y,2 (0.000399)\n",
      "223. fBodyAccJerk-maxInds-X (0.000393)\n",
      "224. tBodyAccJerk-energy()-Z (0.000391)\n",
      "225. fBodyAcc-bandsEnergy()-1,24.1 (0.000391)\n",
      "226. fBodyGyro-bandsEnergy()-49,64.1 (0.000389)\n",
      "227. fBodyAcc-kurtosis()-X (0.000387)\n",
      "228. tBodyGyroJerk-arCoeff()-Z,4 (0.000383)\n",
      "229. tBodyGyroMag-arCoeff()4 (0.000380)\n",
      "230. fBodyAccJerk-bandsEnergy()-49,64.2 (0.000379)\n",
      "231. tBodyGyroJerk-mad()-Y (0.000375)\n",
      "232. tBodyAccJerk-arCoeff()-Z,4 (0.000374)\n",
      "233. fBodyAcc-iqr()-Z (0.000372)\n",
      "234. tBodyGyroJerk-iqr()-Z (0.000369)\n",
      "235. fBodyAcc-meanFreq()-Y (0.000369)\n",
      "236. angle(tBodyGyroMean,gravityMean) (0.000368)\n",
      "237. tBodyGyroJerk-correlation()-X,Z (0.000367)\n",
      "238. fBodyAccJerk-mad()-Y (0.000357)\n",
      "239. fBodyGyro-entropy()-X (0.000355)\n",
      "240. tBodyGyroJerk-arCoeff()-X,2 (0.000353)\n",
      "241. fBodyAccJerk-bandsEnergy()-33,48.1 (0.000351)\n",
      "242. tBodyGyro-std()-Y (0.000351)\n",
      "243. fBodyBodyAccJerkMag-meanFreq() (0.000348)\n",
      "244. fBodyGyro-bandsEnergy()-33,48.2 (0.000347)\n",
      "245. fBodyAccJerk-std()-Y (0.000347)\n",
      "246. tBodyGyroJerk-sma() (0.000347)\n",
      "247. tBodyAccMag-mean() (0.000344)\n",
      "248. fBodyAcc-bandsEnergy()-33,48 (0.000343)\n",
      "249. tBodyGyro-sma() (0.000342)\n",
      "250. tBodyAcc-entropy()-Y (0.000340)\n",
      "251. tBodyAccJerkMag-arCoeff()2 (0.000338)\n",
      "252. tBodyGyroJerk-arCoeff()-Z,2 (0.000338)\n",
      "253. fBodyGyro-bandsEnergy()-33,48.1 (0.000336)\n",
      "254. fBodyGyro-bandsEnergy()-9,16 (0.000334)\n",
      "255. fBodyAccJerk-bandsEnergy()-25,48.1 (0.000331)\n",
      "256. fBodyAccMag-skewness() (0.000327)\n",
      "257. tBodyGyroMag-mean() (0.000325)\n",
      "258. fBodyBodyGyroMag-sma() (0.000325)\n",
      "259. tBodyGyro-arCoeff()-Y,4 (0.000324)\n",
      "260. tBodyGyroJerk-entropy()-X (0.000324)\n",
      "261. fBodyGyro-bandsEnergy()-1,8.2 (0.000322)\n",
      "262. fBodyBodyAccJerkMag-mean() (0.000321)\n",
      "263. fBodyAccMag-kurtosis() (0.000316)\n",
      "264. fBodyAccJerk-bandsEnergy()-9,16.1 (0.000315)\n",
      "265. fBodyGyro-meanFreq()-Z (0.000314)\n",
      "266. fBodyGyro-bandsEnergy()-1,16.2 (0.000313)\n",
      "267. fBodyAcc-bandsEnergy()-33,48.1 (0.000310)\n",
      "268. tBodyAccJerkMag-arCoeff()1 (0.000309)\n",
      "269. fBodyAcc-maxInds-X (0.000309)\n",
      "270. fBodyAcc-energy()-Z (0.000309)\n",
      "271. tBodyGyroJerkMag-arCoeff()3 (0.000308)\n",
      "272. tBodyGyro-arCoeff()-Z,2 (0.000307)\n",
      "273. tBodyGyro-max()-Y (0.000307)\n",
      "274. tBodyAccMag-arCoeff()3 (0.000304)\n",
      "275. fBodyAccJerk-bandsEnergy()-1,8.1 (0.000304)\n",
      "276. tBodyGyroJerk-max()-Y (0.000302)\n",
      "277. fBodyGyro-bandsEnergy()-25,32.1 (0.000298)\n",
      "278. tBodyAccJerk-std()-Z (0.000298)\n",
      "279. fBodyGyro-bandsEnergy()-17,24.2 (0.000295)\n",
      "280. tBodyGyro-mean()-Z (0.000291)\n",
      "281. fBodyGyro-bandsEnergy()-33,40.1 (0.000291)\n",
      "282. fBodyAccJerk-bandsEnergy()-17,32.1 (0.000287)\n",
      "283. tBodyAcc-arCoeff()-Z,4 (0.000287)\n",
      "284. tBodyAccJerk-iqr()-X (0.000287)\n",
      "285. fBodyAcc-bandsEnergy()-57,64.2 (0.000286)\n",
      "286. fBodyAcc-skewness()-X (0.000286)\n",
      "287. tBodyAccJerk-arCoeff()-Z,1 (0.000286)\n",
      "288. tBodyGyro-arCoeff()-Z,4 (0.000279)\n",
      "289. fBodyGyro-bandsEnergy()-41,48 (0.000279)\n",
      "290. fBodyGyro-bandsEnergy()-33,40.2 (0.000279)\n",
      "291. fBodyAcc-bandsEnergy()-57,64 (0.000276)\n",
      "292. tBodyAcc-min()-X (0.000275)\n",
      "293. fBodyAcc-bandsEnergy()-17,32 (0.000272)\n",
      "294. fBodyAccJerk-bandsEnergy()-49,64 (0.000271)\n",
      "295. tGravityAccMag-max() (0.000270)\n",
      "296. tBodyAcc-arCoeff()-Z,3 (0.000269)\n",
      "297. tBodyGyroJerk-min()-Y (0.000267)\n",
      "298. tBodyAccJerk-iqr()-Y (0.000267)\n",
      "299. tGravityAccMag-energy() (0.000266)\n",
      "300. fBodyAcc-bandsEnergy()-57,64.1 (0.000264)\n",
      "301. tBodyAcc-arCoeff()-X,2 (0.000263)\n",
      "302. fBodyAcc-meanFreq()-X (0.000263)\n",
      "303. tBodyAcc-entropy()-Z (0.000262)\n",
      "304. fBodyAccJerk-bandsEnergy()-25,32 (0.000258)\n",
      "305. fBodyAccJerk-kurtosis()-Y (0.000256)\n",
      "306. tGravityAccMag-arCoeff()4 (0.000255)\n",
      "307. tBodyAccJerk-arCoeff()-Z,3 (0.000252)\n",
      "308. fBodyGyro-maxInds-Y (0.000251)\n",
      "309. tBodyGyroJerkMag-arCoeff()2 (0.000249)\n",
      "310. tBodyAccJerk-arCoeff()-Y,1 (0.000249)\n",
      "311. fBodyGyro-kurtosis()-X (0.000247)\n",
      "312. fBodyAccJerk-iqr()-Y (0.000246)\n",
      "313. fBodyGyro-bandsEnergy()-41,48.1 (0.000246)\n",
      "314. fBodyAcc-bandsEnergy()-1,16 (0.000245)\n",
      "315. tBodyAcc-arCoeff()-Y,2 (0.000243)\n",
      "316. fBodyAccJerk-energy()-X (0.000243)\n",
      "317. fBodyAcc-min()-Y (0.000243)\n",
      "318. tBodyAccJerk-mean()-X (0.000241)\n",
      "319. fBodyGyro-sma() (0.000238)\n",
      "320. tBodyGyroJerkMag-max() (0.000238)\n",
      "321. fBodyAccJerk-skewness()-Z (0.000237)\n",
      "322. tBodyGyroMag-sma() (0.000237)\n",
      "323. fBodyAcc-bandsEnergy()-1,16.2 (0.000235)\n",
      "324. fBodyAccMag-iqr() (0.000235)\n",
      "325. tBodyGyroJerk-std()-Y (0.000234)\n",
      "326. tBodyGyroJerkMag-std() (0.000233)\n",
      "327. tBodyAcc-max()-Y (0.000226)\n",
      "328. tBodyGyro-correlation()-X,Y (0.000225)\n",
      "329. tBodyAccJerk-mean()-Z (0.000223)\n",
      "330. tBodyGyroJerkMag-arCoeff()4 (0.000222)\n",
      "331. tBodyGyroJerkMag-energy() (0.000221)\n",
      "332. fBodyAcc-bandsEnergy()-25,32 (0.000221)\n",
      "333. fBodyGyro-bandsEnergy()-25,48 (0.000217)\n",
      "334. tBodyAccJerkMag-min() (0.000216)\n",
      "335. fBodyGyro-kurtosis()-Y (0.000215)\n",
      "336. fBodyBodyGyroJerkMag-kurtosis() (0.000211)\n",
      "337. tBodyGyroJerk-std()-Z (0.000211)\n",
      "338. fBodyAccJerk-bandsEnergy()-33,40.1 (0.000210)\n",
      "339. tGravityAcc-mad()-Z (0.000209)\n",
      "340. tBodyAccJerk-mad()-Z (0.000207)\n",
      "341. tBodyAccJerk-arCoeff()-Y,2 (0.000207)\n",
      "342. fBodyGyro-bandsEnergy()-25,32.2 (0.000203)\n",
      "343. fBodyAcc-bandsEnergy()-49,64.1 (0.000203)\n",
      "344. fBodyAcc-bandsEnergy()-25,32.1 (0.000200)\n",
      "345. tBodyGyroMag-min() (0.000197)\n",
      "346. fBodyBodyGyroJerkMag-meanFreq() (0.000197)\n",
      "347. fBodyBodyGyroJerkMag-max() (0.000197)\n",
      "348. fBodyAccJerk-bandsEnergy()-17,24 (0.000194)\n",
      "349. tBodyGyroJerk-max()-Z (0.000193)\n",
      "350. tBodyGyroJerk-arCoeff()-X,4 (0.000193)\n",
      "351. tBodyAccMag-min() (0.000192)\n",
      "352. fBodyAccJerk-bandsEnergy()-25,32.1 (0.000192)\n",
      "353. fBodyAccJerk-meanFreq()-X (0.000191)\n",
      "354. fBodyAccJerk-meanFreq()-Y (0.000191)\n",
      "355. fBodyGyro-bandsEnergy()-49,56.2 (0.000190)\n",
      "356. fBodyBodyGyroJerkMag-iqr() (0.000189)\n",
      "357. fBodyAccJerk-max()-Z (0.000189)\n",
      "358. tBodyAccJerk-std()-X (0.000188)\n",
      "359. fBodyGyro-bandsEnergy()-9,16.1 (0.000188)\n",
      "360. fBodyAcc-min()-Z (0.000187)\n",
      "361. tBodyGyroMag-std() (0.000187)\n",
      "362. tBodyGyroJerkMag-min() (0.000185)\n",
      "363. fBodyBodyGyroMag-max() (0.000185)\n",
      "364. tBodyAcc-arCoeff()-X,1 (0.000185)\n",
      "365. fBodyAccJerk-energy()-Y (0.000184)\n",
      "366. fBodyAccJerk-bandsEnergy()-49,64.1 (0.000184)\n",
      "367. fBodyAcc-kurtosis()-Z (0.000184)\n",
      "368. tGravityAccMag-min() (0.000184)\n",
      "369. fBodyBodyGyroMag-skewness() (0.000183)\n",
      "370. tBodyGyroJerk-mad()-Z (0.000181)\n",
      "371. fBodyAcc-bandsEnergy()-33,40.1 (0.000180)\n",
      "372. fBodyAccJerk-bandsEnergy()-41,48 (0.000179)\n",
      "373. tBodyAccJerk-mean()-Y (0.000178)\n",
      "374. fBodyAccJerk-mean()-Z (0.000178)\n",
      "375. tBodyGyro-energy()-Z (0.000177)\n",
      "376. tBodyGyroMag-mad() (0.000175)\n",
      "377. fBodyBodyGyroJerkMag-mean() (0.000174)\n",
      "378. fBodyAcc-bandsEnergy()-1,8.2 (0.000172)\n",
      "379. fBodyAccJerk-bandsEnergy()-25,48 (0.000172)\n",
      "380. fBodyGyro-meanFreq()-Y (0.000169)\n",
      "381. fBodyAccJerk-max()-Y (0.000168)\n",
      "382. fBodyAcc-bandsEnergy()-25,48.2 (0.000168)\n",
      "383. fBodyGyro-min()-Y (0.000168)\n",
      "384. fBodyAccJerk-kurtosis()-Z (0.000167)\n",
      "385. tBodyGyro-arCoeff()-X,4 (0.000167)\n",
      "386. fBodyGyro-bandsEnergy()-49,64.2 (0.000165)\n",
      "387. fBodyAccJerk-bandsEnergy()-41,48.1 (0.000164)\n",
      "388. tBodyGyro-iqr()-Y (0.000161)\n",
      "389. fBodyAccJerk-bandsEnergy()-9,16 (0.000160)\n",
      "390. tBodyAccMag-entropy() (0.000158)\n",
      "391. tGravityAccMag-entropy() (0.000158)\n",
      "392. tBodyAccJerkMag-sma() (0.000157)\n",
      "393. tBodyGyro-arCoeff()-X,3 (0.000156)\n",
      "394. fBodyAcc-bandsEnergy()-49,56.1 (0.000156)\n",
      "395. tBodyGyroJerk-min()-Z (0.000156)\n",
      "396. fBodyAccJerk-entropy()-Z (0.000155)\n",
      "397. tBodyAcc-arCoeff()-Z,2 (0.000155)\n",
      "398. tBodyAcc-min()-Z (0.000154)\n",
      "399. tBodyAcc-arCoeff()-Z,1 (0.000153)\n",
      "400. tBodyGyroMag-max() (0.000152)\n",
      "401. fBodyAcc-bandsEnergy()-49,56.2 (0.000151)\n",
      "402. tBodyGyroJerkMag-entropy() (0.000146)\n",
      "403. tBodyGyroMag-arCoeff()3 (0.000146)\n",
      "404. tBodyGyroJerk-mean()-Z (0.000145)\n",
      "405. tBodyAcc-std()-Z (0.000143)\n",
      "406. fBodyAccJerk-std()-X (0.000142)\n",
      "407. fBodyAccMag-entropy() (0.000141)\n",
      "408. tBodyAcc-arCoeff()-X,3 (0.000136)\n",
      "409. fBodyBodyAccJerkMag-iqr() (0.000131)\n",
      "410. tBodyAcc-min()-Y (0.000131)\n",
      "411. tBodyGyro-mean()-Y (0.000131)\n",
      "412. fBodyGyro-bandsEnergy()-17,32.1 (0.000129)\n",
      "413. fBodyAcc-maxInds-Y (0.000129)\n",
      "414. fBodyBodyAccJerkMag-mad() (0.000128)\n",
      "415. tGravityAcc-entropy()-Z (0.000128)\n",
      "416. tBodyAccJerk-min()-Y (0.000128)\n",
      "417. fBodyAcc-bandsEnergy()-33,40.2 (0.000127)\n",
      "418. tBodyGyroJerk-arCoeff()-Y,4 (0.000127)\n",
      "419. tBodyAccJerk-sma() (0.000126)\n",
      "420. tBodyAccMag-arCoeff()4 (0.000126)\n",
      "421. angle(tBodyGyroJerkMean,gravityMean) (0.000125)\n",
      "422. fBodyAcc-mad()-Y (0.000125)\n",
      "423. tBodyAccJerkMag-energy() (0.000125)\n",
      "424. tBodyAcc-arCoeff()-X,4 (0.000124)\n",
      "425. fBodyAcc-bandsEnergy()-49,64.2 (0.000124)\n",
      "426. fBodyAcc-bandsEnergy()-25,48 (0.000123)\n",
      "427. fBodyAccJerk-sma() (0.000123)\n",
      "428. fBodyBodyGyroMag-maxInds (0.000122)\n",
      "429. fBodyAccJerk-bandsEnergy()-25,32.2 (0.000122)\n",
      "430. fBodyGyro-min()-Z (0.000122)\n",
      "431. fBodyGyro-std()-Y (0.000121)\n",
      "432. fBodyBodyAccJerkMag-sma() (0.000121)\n",
      "433. tGravityAcc-std()-X (0.000121)\n",
      "434. fBodyBodyGyroJerkMag-std() (0.000120)\n",
      "435. fBodyGyro-bandsEnergy()-49,56 (0.000118)\n",
      "436. angle(tBodyAccJerkMean),gravityMean) (0.000118)\n",
      "437. fBodyAccJerk-bandsEnergy()-9,16.2 (0.000117)\n",
      "438. tBodyGyroJerk-entropy()-Z (0.000116)\n",
      "439. fBodyBodyGyroMag-min() (0.000115)\n",
      "440. fBodyAccJerk-bandsEnergy()-1,24.1 (0.000114)\n",
      "441. fBodyAccJerk-bandsEnergy()-57,64.2 (0.000114)\n",
      "442. fBodyAccJerk-bandsEnergy()-41,48.2 (0.000112)\n",
      "443. tBodyAcc-arCoeff()-Y,4 (0.000112)\n",
      "444. fBodyGyro-mean()-Z (0.000112)\n",
      "445. tBodyAccJerkMag-std() (0.000110)\n",
      "446. fBodyAcc-bandsEnergy()-33,48.2 (0.000110)\n",
      "447. tBodyGyroJerk-arCoeff()-Y,2 (0.000110)\n",
      "448. fBodyAccMag-min() (0.000110)\n",
      "449. fBodyAccJerk-min()-Y (0.000109)\n",
      "450. tBodyGyro-arCoeff()-Z,3 (0.000108)\n",
      "451. fBodyAcc-bandsEnergy()-41,48 (0.000105)\n",
      "452. fBodyAccJerk-bandsEnergy()-1,8.2 (0.000105)\n",
      "453. fBodyGyro-bandsEnergy()-17,24.1 (0.000102)\n",
      "454. fBodyBodyGyroMag-iqr() (0.000099)\n",
      "455. fBodyGyro-bandsEnergy()-57,64.2 (0.000099)\n",
      "456. fBodyGyro-bandsEnergy()-57,64.1 (0.000099)\n",
      "457. tBodyAcc-mean()-X (0.000098)\n",
      "458. fBodyAccJerk-bandsEnergy()-17,32 (0.000098)\n",
      "459. fBodyAccJerk-bandsEnergy()-17,24.1 (0.000098)\n",
      "460. fBodyAcc-mad()-Z (0.000097)\n",
      "461. fBodyGyro-bandsEnergy()-57,64 (0.000096)\n",
      "462. fBodyAccJerk-bandsEnergy()-49,56.1 (0.000095)\n",
      "463. fBodyAcc-bandsEnergy()-17,24 (0.000094)\n",
      "464. fBodyAcc-bandsEnergy()-41,48.1 (0.000093)\n",
      "465. tBodyAcc-mad()-Z (0.000093)\n",
      "466. tBodyAcc-arCoeff()-Y,1 (0.000093)\n",
      "467. fBodyAcc-bandsEnergy()-17,24.1 (0.000092)\n",
      "468. fBodyAccJerk-maxInds-Y (0.000091)\n",
      "469. tBodyAccJerkMag-arCoeff()3 (0.000090)\n",
      "470. fBodyAcc-bandsEnergy()-33,40 (0.000089)\n",
      "471. fBodyAcc-entropy()-X (0.000087)\n",
      "472. fBodyAcc-bandsEnergy()-9,16 (0.000085)\n",
      "473. fBodyAccJerk-bandsEnergy()-49,56 (0.000084)\n",
      "474. fBodyBodyGyroJerkMag-energy() (0.000084)\n",
      "475. fBodyGyro-entropy()-Y (0.000083)\n",
      "476. fBodyAccJerk-bandsEnergy()-49,56.2 (0.000083)\n",
      "477. fBodyAccJerk-min()-X (0.000082)\n",
      "478. fBodyAccJerk-iqr()-Z (0.000082)\n",
      "479. tBodyAcc-iqr()-Y (0.000081)\n",
      "480. fBodyGyro-maxInds-X (0.000080)\n",
      "481. fBodyAccJerk-min()-Z (0.000079)\n",
      "482. tBodyAccJerk-correlation()-Y,Z (0.000079)\n",
      "483. tBodyAcc-sma() (0.000078)\n",
      "484. tBodyAccJerk-arCoeff()-X,4 (0.000076)\n",
      "485. tBodyAccJerk-arCoeff()-X,3 (0.000075)\n",
      "486. fBodyBodyGyroMag-mad() (0.000074)\n",
      "487. fBodyGyro-bandsEnergy()-17,32 (0.000072)\n",
      "488. fBodyAcc-bandsEnergy()-25,48.1 (0.000072)\n",
      "489. fBodyBodyGyroMag-entropy() (0.000071)\n",
      "490. tBodyAccJerk-energy()-Y (0.000067)\n",
      "491. tBodyGyroJerkMag-sma() (0.000066)\n",
      "492. tBodyGyroMag-energy() (0.000065)\n",
      "493. tBodyGyroJerk-entropy()-Y (0.000065)\n",
      "494. fBodyBodyGyroMag-mean() (0.000064)\n",
      "495. fBodyAccJerk-bandsEnergy()-57,64 (0.000062)\n",
      "496. fBodyGyro-iqr()-X (0.000062)\n",
      "497. tBodyAccJerk-max()-X (0.000062)\n",
      "498. fBodyBodyGyroJerkMag-sma() (0.000061)\n",
      "499. fBodyAcc-std()-Z (0.000061)\n",
      "500. tBodyAccJerk-arCoeff()-X,2 (0.000060)\n",
      "501. tBodyAcc-energy()-Z (0.000059)\n",
      "502. tBodyGyro-arCoeff()-X,2 (0.000058)\n",
      "503. fBodyBodyGyroMag-std() (0.000058)\n",
      "504. fBodyAcc-bandsEnergy()-9,16.1 (0.000058)\n",
      "505. tGravityAccMag-arCoeff()3 (0.000057)\n",
      "506. tBodyGyroMag-entropy() (0.000057)\n",
      "507. tGravityAcc-correlation()-Y,Z (0.000057)\n",
      "508. fBodyBodyAccJerkMag-maxInds (0.000056)\n",
      "509. angle(tBodyAccMean,gravity) (0.000055)\n",
      "510. fBodyAcc-entropy()-Z (0.000053)\n",
      "511. fBodyAccMag-maxInds (0.000052)\n",
      "512. fBodyAccJerk-entropy()-X (0.000052)\n",
      "513. tBodyGyroJerkMag-arCoeff()1 (0.000047)\n",
      "514. fBodyGyro-bandsEnergy()-25,32 (0.000045)\n",
      "515. fBodyBodyGyroMag-energy() (0.000044)\n",
      "516. fBodyAccJerk-bandsEnergy()-33,48 (0.000044)\n",
      "517. fBodyAccJerk-bandsEnergy()-57,64.1 (0.000044)\n",
      "518. tBodyAccJerk-min()-X (0.000041)\n",
      "519. tBodyGyroMag-arCoeff()2 (0.000040)\n",
      "520. fBodyAccJerk-skewness()-X (0.000040)\n",
      "521. fBodyAcc-bandsEnergy()-49,64 (0.000039)\n",
      "522. tBodyGyroJerk-arCoeff()-Y,3 (0.000039)\n",
      "523. fBodyAcc-min()-X (0.000036)\n",
      "524. fBodyAcc-bandsEnergy()-41,48.2 (0.000033)\n",
      "525. tBodyAccJerk-arCoeff()-Y,4 (0.000033)\n",
      "526. tGravityAccMag-iqr() (0.000033)\n",
      "527. fBodyBodyGyroJerkMag-min() (0.000032)\n",
      "528. fBodyAcc-bandsEnergy()-49,56 (0.000031)\n",
      "529. fBodyGyro-min()-X (0.000031)\n",
      "530. tBodyAccJerk-entropy()-Y (0.000031)\n",
      "531. tBodyGyroJerk-arCoeff()-Z,1 (0.000030)\n",
      "532. fBodyBodyGyroJerkMag-maxInds (0.000029)\n",
      "533. tBodyAccJerkMag-arCoeff()4 (0.000029)\n",
      "534. tBodyAcc-arCoeff()-Y,3 (0.000027)\n",
      "535. tBodyGyro-arCoeff()-Y,3 (0.000027)\n",
      "536. fBodyGyro-energy()-Y (0.000027)\n",
      "537. tBodyAcc-std()-Y (0.000026)\n",
      "538. fBodyAccJerk-bandsEnergy()-33,40.2 (0.000025)\n",
      "539. fBodyAcc-iqr()-Y (0.000025)\n",
      "540. fBodyAcc-entropy()-Y (0.000022)\n",
      "541. fBodyBodyAccJerkMag-max() (0.000022)\n",
      "542. fBodyGyro-bandsEnergy()-49,64 (0.000022)\n",
      "543. fBodyAccJerk-bandsEnergy()-33,40 (0.000022)\n",
      "544. tBodyGyroJerk-mean()-Y (0.000016)\n",
      "545. fBodyAccJerk-bandsEnergy()-1,24.2 (0.000008)\n",
      "546. fBodyAccJerk-bandsEnergy()-33,48.2 (0.000000)\n",
      "547. fBodyGyro-bandsEnergy()-49,56.1 (0.000000)\n",
      "548. fBodyGyro-entropy()-Z (0.000000)\n",
      "549. tBodyAcc-mean()-Z (0.000000)\n",
      "550. fBodyAccJerk-bandsEnergy()-25,48.2 (0.000000)\n",
      "551. fBodyBodyAccJerkMag-min() (0.000000)\n",
      "552. fBodyBodyAccJerkMag-entropy() (0.000000)\n",
      "553. fBodyGyro-bandsEnergy()-9,16.2 (0.000000)\n",
      "554. fBodyGyro-skewness()-X (0.000000)\n",
      "555. fBodyGyro-iqr()-Z (0.000000)\n",
      "556. fBodyBodyAccJerkMag-energy() (0.000000)\n",
      "557. tBodyAcc-iqr()-Z (0.000000)\n",
      "558. fBodyAccJerk-iqr()-X (0.000000)\n",
      "559. tGravityAcc-std()-Z (0.000000)\n",
      "560. fBodyBodyGyroJerkMag-entropy() (0.000000)\n",
      "561. tGravityAcc-iqr()-Z (0.000000)\n"
     ]
    }
   ],
   "source": [
    "rf_for_emb = RandomForestClassifier()      \n",
    "rf_for_emb = rf_for_emb.fit(X, y)\n",
    "importances = rf_for_emb.feature_importances_\n",
    "std = np.std([tree.feature_importances_ for tree in rf_for_emb.estimators_], axis=0)\n",
    "indices = np.argsort(importances)[::-1]\n",
    "\n",
    "print(\"Feature ranking:\")\n",
    "for f in range(X.shape[1]):\n",
    "    print(\"%d. %s (%f)\" % (f + 1, X.columns[indices[f]], importances[indices[f]]))"
   ]
  },
  {
   "cell_type": "code",
   "execution_count": 65,
   "metadata": {
    "collapsed": true
   },
   "outputs": [
    {
     "data": {
      "text/plain": [
       "array([403, 558,  57, 559,  37,  42,  50,  41, 226, 389, 280, 353,  86,\n",
       "       393, 367,  65,  74,  58,  51, 214,  40, 560,  75,  63,  69, 222,\n",
       "       271, 504,  16,  53, 371,  56, 314, 215,  49,  39, 139, 203, 381,\n",
       "        52,  54,  70, 274, 213, 339, 508, 472,  67,  77, 281,  71,  46,\n",
       "        55, 503, 123, 129, 426, 451, 302,  72,   9, 209, 126, 163, 179,\n",
       "       299, 470, 134, 460,  66, 441, 142, 117, 502, 128,  62, 185, 458,\n",
       "       507, 127, 345, 538, 145, 418, 432, 160, 132, 474,  22, 282, 526,\n",
       "       201, 102,  59, 468, 316, 497, 429, 434, 176, 333, 268,  91, 199,\n",
       "       276, 295, 187, 423, 159, 205,   3, 136, 430, 172, 158, 433, 505,\n",
       "       459, 210, 202, 120, 137, 450, 166,  78,  76, 501, 500, 543, 143,\n",
       "        68, 153,  38, 189, 131, 269, 324, 180, 118, 332, 516, 197, 456,\n",
       "       362, 342,  73, 443, 228,   7, 292, 352, 540,  60, 234, 252,  96,\n",
       "       267, 374, 344, 462, 229, 439, 265, 486, 298, 417, 464,  87, 527,\n",
       "       493, 144, 487,  19, 105, 512, 552, 218, 178, 259, 233, 376,  44,\n",
       "        90, 377, 349, 133, 411, 325, 431, 111, 101, 350, 300, 266, 104,\n",
       "       149, 284, 424, 482,  47, 177, 114, 125, 223,  17,  84, 207,   1,\n",
       "        11,  94,   6, 248, 246, 169, 254, 141, 195, 275, 428, 331, 206,\n",
       "       150, 369,  98, 328, 485, 297, 196, 251, 420, 167, 116, 286, 181,\n",
       "       294, 556, 198, 351, 445, 186, 405, 124, 525, 498, 348, 175, 200,\n",
       "       312, 135,  23, 236, 194, 484, 461, 408, 513, 239, 533, 152, 182,\n",
       "       488, 515, 514, 396, 453, 496, 326, 235, 290, 283, 263, 154, 130,\n",
       "       211, 395, 170, 477,  85, 490, 122, 478, 404,  36,  99, 337, 296,\n",
       "       113, 156, 465, 492, 309,  12, 311, 392, 216,  35, 173, 100, 219,\n",
       "       323,  26, 293,  24, 384, 378, 225, 115, 449, 262, 109, 455, 364,\n",
       "       479, 310,  30, 360, 278,  80, 438, 255, 379, 244, 338, 509, 164,\n",
       "       253,  10, 157,  82, 264, 258, 305, 473, 230, 457, 553, 165, 399,\n",
       "        48,  88, 110, 491, 327, 319, 243, 551, 544, 383, 171, 188, 204,\n",
       "       398, 372, 373, 494, 548, 355,  83, 475, 279, 240, 256, 531,  25,\n",
       "       361, 406, 301, 217, 539, 168, 320, 386,  81, 346, 138, 241, 541,\n",
       "       330, 394, 452, 354, 343, 436, 380, 148, 499, 400, 140, 382, 208,\n",
       "       221, 231, 147, 322, 174, 368,  34,  14,  33, 242, 336, 260, 250,\n",
       "       162,   5, 347, 510,  27, 522,  13, 121, 483, 291, 517,  64,  93,\n",
       "       334, 192,  95, 212, 557, 272, 232,  28, 341, 315, 359, 537, 412,\n",
       "       437, 427, 520,  43, 542, 466, 555, 410, 184, 532, 407, 416, 414,\n",
       "        32, 425, 227, 340, 190, 506, 357, 155, 307, 409, 476, 535, 495,\n",
       "       481,   0, 390, 397, 273, 467, 401, 304, 321,   8,  29, 318, 370,\n",
       "       237, 306, 287, 303, 387, 547, 446, 415, 356, 365,  20, 448, 358,\n",
       "       119,  15, 108, 107, 530, 469, 329, 536,  97, 257, 245, 183, 528,\n",
       "       388, 442,  89, 546, 270, 106,  18, 146, 529, 317, 224, 247,  79,\n",
       "       524, 554, 289, 511, 366, 261, 463, 534, 391, 402,  92, 249, 375,\n",
       "       313, 191, 277, 335, 112, 220, 545, 308, 435, 103, 193, 550, 238,\n",
       "        31, 151, 440,   4, 413, 285, 288, 518, 471, 385, 161, 421, 419,\n",
       "       480, 447,   2, 422, 519, 523, 489, 454, 444, 521,  21, 363,  45,\n",
       "       549,  61], dtype=int64)"
      ]
     },
     "execution_count": 65,
     "metadata": {},
     "output_type": "execute_result"
    }
   ],
   "source": [
    "indices"
   ]
  },
  {
   "cell_type": "code",
   "execution_count": 72,
   "metadata": {
    "scrolled": true
   },
   "outputs": [],
   "source": [
    "h_indices = indices[:100]  # 100 best features\n",
    "th_indices = indices[:300]  # 300 best features"
   ]
  },
  {
   "cell_type": "code",
   "execution_count": 74,
   "metadata": {
    "scrolled": true
   },
   "outputs": [
    {
     "data": {
      "image/png": "[encoded data removed]",
      "text/plain": [
       "<matplotlib.figure.Figure at 0x1dab5afdef0>"
      ]
     },
     "metadata": {},
     "output_type": "display_data"
    }
   ],
   "source": [
    "plt.figure(1, figsize=(25, 13))\n",
    "plt.title(\"Feature importances\")\n",
    "plt.bar(range(100), importances[h_indices], color=\"g\", yerr=std[h_indices], align=\"center\")\n",
    "plt.xticks(range(100), X.columns[h_indices],rotation=90)\n",
    "plt.xlim([-1, 100])\n",
    "plt.show()"
   ]
  },
  {
   "cell_type": "code",
   "execution_count": 75,
   "metadata": {},
   "outputs": [],
   "source": [
    "hundred_X = X[X.columns[h_indices]]\n",
    "hundred_X_test = X_test[X.columns[h_indices]]\n",
    "\n",
    "threeh_X = X[X.columns[th_indices]]\n",
    "threeh_X_test = X_test[X.columns[th_indices]]"
   ]
  },
  {
   "cell_type": "markdown",
   "metadata": {},
   "source": [
    "## 4. Model Selection"
   ]
  },
  {
   "cell_type": "markdown",
   "metadata": {},
   "source": [
    "### 4 - (1) Basic Classifiers (Decision Tree, KNN, MLP, SVM)"
   ]
  },
  {
   "cell_type": "code",
   "execution_count": 80,
   "metadata": {},
   "outputs": [
    {
     "data": {
      "text/plain": [
       "0.8578215134034611"
      ]
     },
     "execution_count": 80,
     "metadata": {},
     "output_type": "execute_result"
    }
   ],
   "source": [
    "decision_tree00 = tree.DecisionTreeClassifier()\n",
    "dtclf00 = decision_tree00.fit(X, y)\n",
    "dtclf00.score(X_test, y_test)"
   ]
  },
  {
   "cell_type": "code",
   "execution_count": 81,
   "metadata": {},
   "outputs": [
    {
     "data": {
      "text/plain": [
       "0.8523922633186292"
      ]
     },
     "execution_count": 81,
     "metadata": {},
     "output_type": "execute_result"
    }
   ],
   "source": [
    "decision_tree01 = tree.DecisionTreeClassifier()\n",
    "dtclf01 = decision_tree01.fit(hundred_X, y)\n",
    "dtclf01.score(hundred_X_test, y_test)"
   ]
  },
  {
   "cell_type": "code",
   "execution_count": 85,
   "metadata": {},
   "outputs": [
    {
     "data": {
      "text/plain": [
       "0.8347472005429251"
      ]
     },
     "execution_count": 85,
     "metadata": {},
     "output_type": "execute_result"
    }
   ],
   "source": [
    "decision_tree02 = tree.DecisionTreeClassifier()\n",
    "dtclf02 = decision_tree02.fit(threeh_X, y)\n",
    "dtclf02.score(threeh_X_test, y_test)"
   ]
  },
  {
   "cell_type": "code",
   "execution_count": 83,
   "metadata": {},
   "outputs": [
    {
     "data": {
      "text/plain": [
       "0.8544282321004412"
      ]
     },
     "execution_count": 83,
     "metadata": {},
     "output_type": "execute_result"
    }
   ],
   "source": [
    "decision_tree03 = tree.DecisionTreeClassifier()\n",
    "dtclf03 = decision_tree03.fit(rfecv_X, y)\n",
    "dtclf03.score(rfecv_X_test, y_test)"
   ]
  },
  {
   "cell_type": "markdown",
   "metadata": {},
   "source": [
    "For some reason it doesn't seem like selected features guarantee better performance."
   ]
  },
  {
   "cell_type": "code",
   "execution_count": 86,
   "metadata": {},
   "outputs": [
    {
     "data": {
      "text/plain": [
       "0.8727519511367492"
      ]
     },
     "execution_count": 86,
     "metadata": {},
     "output_type": "execute_result"
    }
   ],
   "source": [
    "decision_tree04 = tree.DecisionTreeClassifier(min_samples_leaf=4)\n",
    "dtclf04 = decision_tree04.fit(X, y)\n",
    "dtclf04.score(X_test, y_test)"
   ]
  },
  {
   "cell_type": "code",
   "execution_count": 87,
   "metadata": {},
   "outputs": [
    {
     "data": {
      "text/plain": [
       "0.8710553104852392"
      ]
     },
     "execution_count": 87,
     "metadata": {},
     "output_type": "execute_result"
    }
   ],
   "source": [
    "decision_tree05 = tree.DecisionTreeClassifier(min_samples_leaf=6)\n",
    "dtclf05 = decision_tree05.fit(X, y)\n",
    "dtclf05.score(X_test, y_test)"
   ]
  },
  {
   "cell_type": "code",
   "execution_count": 90,
   "metadata": {},
   "outputs": [
    {
     "data": {
      "text/plain": [
       "0.8778418730912793"
      ]
     },
     "execution_count": 90,
     "metadata": {},
     "output_type": "execute_result"
    }
   ],
   "source": [
    "decision_tree06 = tree.DecisionTreeClassifier(min_samples_leaf=6)\n",
    "dtclf06 = decision_tree06.fit(rfecv_X, y)\n",
    "dtclf06.score(rfecv_X_test, y_test)"
   ]
  },
  {
   "cell_type": "code",
   "execution_count": 91,
   "metadata": {},
   "outputs": [
    {
     "data": {
      "text/plain": [
       "0.8456057007125891"
      ]
     },
     "execution_count": 91,
     "metadata": {},
     "output_type": "execute_result"
    }
   ],
   "source": [
    "decision_tree07 = tree.DecisionTreeClassifier(min_samples_leaf=6)\n",
    "dtclf07 = decision_tree07.fit(threeh_X, y)\n",
    "dtclf07.score(threeh_X_test, y_test)"
   ]
  },
  {
   "cell_type": "markdown",
   "metadata": {},
   "source": [
    "It shows slightlly better performances when 'min_samples_leaf' is 6."
   ]
  },
  {
   "cell_type": "markdown",
   "metadata": {},
   "source": [
    "\n",
    "This code shows how the testing accuracy varies when K changes."
   ]
  },
  {
   "cell_type": "code",
   "execution_count": 92,
   "metadata": {
    "scrolled": false
   },
   "outputs": [
    {
     "data": {
      "text/plain": [
       "Text(0,0.5,'Testing Accuracy')"
      ]
     },
     "execution_count": 92,
     "metadata": {},
     "output_type": "execute_result"
    },
    {
     "data": {
      "image/png": "[encoded data removed]",
      "text/plain": [
       "<matplotlib.figure.Figure at 0x1dab4cdf6d8>"
      ]
     },
     "metadata": {},
     "output_type": "display_data"
    }
   ],
   "source": [
    "k_range = range(3, 50)\n",
    "scores = []\n",
    "for k in k_range:\n",
    "    knn = KNeighborsClassifier(n_neighbors = k)\n",
    "    knnclf = knn.fit(X, y)\n",
    "    scores.append(knnclf.score(X_test, y_test))\n",
    "\n",
    "plt.figure(figsize=(14,5))\n",
    "plt.plot(k_range, scores)\n",
    "plt.xlabel('Value of K for KNN')\n",
    "plt.ylabel('Testing Accuracy')"
   ]
  },
  {
   "cell_type": "code",
   "execution_count": 93,
   "metadata": {},
   "outputs": [
    {
     "data": {
      "text/plain": [
       "0.9077027485578555"
      ]
     },
     "execution_count": 93,
     "metadata": {},
     "output_type": "execute_result"
    }
   ],
   "source": [
    "knn0 = KNeighborsClassifier(n_neighbors = 18)\n",
    "knnclf0 = knn0.fit(X, y)\n",
    "knnclf0.score(X_test, y_test)"
   ]
  },
  {
   "cell_type": "code",
   "execution_count": 94,
   "metadata": {},
   "outputs": [
    {
     "data": {
      "text/plain": [
       "0.9165252799457075"
      ]
     },
     "execution_count": 94,
     "metadata": {},
     "output_type": "execute_result"
    }
   ],
   "source": [
    "knn1 = KNeighborsClassifier(n_neighbors = 19)\n",
    "knnclf1 = knn1.fit(threeh_X, y)\n",
    "knnclf1.score(threeh_X_test, y_test)"
   ]
  },
  {
   "cell_type": "code",
   "execution_count": 97,
   "metadata": {},
   "outputs": [
    {
     "data": {
      "text/plain": [
       "0.9148286392941974"
      ]
     },
     "execution_count": 97,
     "metadata": {},
     "output_type": "execute_result"
    }
   ],
   "source": [
    "knn2 = KNeighborsClassifier(n_neighbors = 28)\n",
    "knnclf2 = knn2.fit(rfecv_X, y)\n",
    "knnclf2.score(rfecv_X_test, y_test)"
   ]
  },
  {
   "cell_type": "markdown",
   "metadata": {},
   "source": [
    "\n"
   ]
  },
  {
   "cell_type": "code",
   "execution_count": 98,
   "metadata": {},
   "outputs": [
    {
     "data": {
      "text/plain": [
       "0.9514760773668137"
      ]
     },
     "execution_count": 98,
     "metadata": {},
     "output_type": "execute_result"
    }
   ],
   "source": [
    "mlp0 = MLPClassifier(hidden_layer_sizes=(15, 15))\n",
    "mlp0 = mlp0.fit(X, y)\n",
    "mlp0.score(X_test, y_test)"
   ]
  },
  {
   "cell_type": "code",
   "execution_count": 104,
   "metadata": {},
   "outputs": [
    {
     "data": {
      "text/plain": [
       "0.9277231082456736"
      ]
     },
     "execution_count": 104,
     "metadata": {},
     "output_type": "execute_result"
    }
   ],
   "source": [
    "mlp1 = MLPClassifier(hidden_layer_sizes=(15, 15))\n",
    "mlp1 = mlp1.fit(rfecv_X, y)\n",
    "mlp1.score(rfecv_X_test, y_test)"
   ]
  },
  {
   "cell_type": "code",
   "execution_count": 100,
   "metadata": {},
   "outputs": [
    {
     "data": {
      "text/plain": [
       "0.9392602646759416"
      ]
     },
     "execution_count": 100,
     "metadata": {},
     "output_type": "execute_result"
    }
   ],
   "source": [
    "mlp2 = MLPClassifier(hidden_layer_sizes=(15, 15))\n",
    "mlp2 = mlp2.fit(rfecv_X, y)\n",
    "mlp2.score(rfecv_X_test, y_test)"
   ]
  },
  {
   "cell_type": "code",
   "execution_count": 101,
   "metadata": {},
   "outputs": [
    {
     "data": {
      "text/plain": [
       "0.9453681710213777"
      ]
     },
     "execution_count": 101,
     "metadata": {},
     "output_type": "execute_result"
    }
   ],
   "source": [
    "mlp3 = MLPClassifier(hidden_layer_sizes=(15, 15, 15))\n",
    "mlp3 = mlp3.fit(X, y)\n",
    "mlp3.score(X_test, y_test)"
   ]
  },
  {
   "cell_type": "code",
   "execution_count": 102,
   "metadata": {},
   "outputs": [
    {
     "data": {
      "text/plain": [
       "0.9487614523243977"
      ]
     },
     "execution_count": 102,
     "metadata": {},
     "output_type": "execute_result"
    }
   ],
   "source": [
    "mlp4 = MLPClassifier(hidden_layer_sizes=(20, 20))\n",
    "mlp4 = mlp4.fit(X, y)\n",
    "mlp4.score(X_test, y_test)"
   ]
  },
  {
   "cell_type": "code",
   "execution_count": 103,
   "metadata": {},
   "outputs": [
    {
     "data": {
      "text/plain": [
       "0.9423142178486597"
      ]
     },
     "execution_count": 103,
     "metadata": {},
     "output_type": "execute_result"
    }
   ],
   "source": [
    "mlp5 = MLPClassifier(hidden_layer_sizes=(30, 30))\n",
    "mlp5 = mlp5.fit(X, y)\n",
    "mlp5.score(X_test, y_test)"
   ]
  },
  {
   "cell_type": "markdown",
   "metadata": {},
   "source": [
    "\n"
   ]
  },
  {
   "cell_type": "code",
   "execution_count": 105,
   "metadata": {},
   "outputs": [
    {
     "data": {
      "text/plain": [
       "0.9402782490668476"
      ]
     },
     "execution_count": 105,
     "metadata": {},
     "output_type": "execute_result"
    }
   ],
   "source": [
    "svcclf0 = SVC()\n",
    "svcclf0 = svcclf0.fit(X, y)\n",
    "svcclf0.score(X_test, y_test)"
   ]
  },
  {
   "cell_type": "code",
   "execution_count": 106,
   "metadata": {},
   "outputs": [
    {
     "data": {
      "text/plain": [
       "0.9209365456396336"
      ]
     },
     "execution_count": 106,
     "metadata": {},
     "output_type": "execute_result"
    }
   ],
   "source": [
    "svcclf1 = SVC()\n",
    "svcclf1 = svcclf1.fit(hundred_X, y)\n",
    "svcclf1.score(hundred_X_test, y_test)"
   ]
  },
  {
   "cell_type": "code",
   "execution_count": 107,
   "metadata": {},
   "outputs": [
    {
     "data": {
      "text/plain": [
       "0.9379029521547336"
      ]
     },
     "execution_count": 107,
     "metadata": {},
     "output_type": "execute_result"
    }
   ],
   "source": [
    "svcclf2 = SVC()\n",
    "svcclf2 = svcclf2.fit(threeh_X, y)\n",
    "svcclf2.score(threeh_X_test, y_test)"
   ]
  },
  {
   "cell_type": "code",
   "execution_count": 108,
   "metadata": {
    "scrolled": true
   },
   "outputs": [
    {
     "data": {
      "text/plain": [
       "0.9402782490668476"
      ]
     },
     "execution_count": 108,
     "metadata": {},
     "output_type": "execute_result"
    }
   ],
   "source": [
    "svcclf3 = SVC()\n",
    "svcclf3 = svcclf3.fit(rfecv_X, y)\n",
    "svcclf3.score(rfecv_X_test, y_test)"
   ]
  },
  {
   "cell_type": "markdown",
   "metadata": {},
   "source": [
    "\n"
   ]
  },
  {
   "cell_type": "markdown",
   "metadata": {},
   "source": [
    "This part is from https://www.kaggle.com/pradeepb/using-neural-networks-in-tensorflow.<br />\n",
    "The number of classes(output layer) is 6, which means the label 'Activity' needs one-hot encoding."
   ]
  },
  {
   "cell_type": "code",
   "execution_count": 109,
   "metadata": {},
   "outputs": [],
   "source": [
    "onehoty = pd.get_dummies(y, prefix='Activity', columns=['Activity'])\n",
    "onehoty_test = pd.get_dummies(y_test, prefix='Activity', columns=['Activity'])"
   ]
  },
  {
   "cell_type": "code",
   "execution_count": 110,
   "metadata": {},
   "outputs": [],
   "source": [
    "import tensorflow as tf\n",
    "\n",
    "n_nodes_input = 561 # number of input features\n",
    "n_nodes_hl = 30     # number of units in hidden layer\n",
    "n_classes = 6       # number of activities\n",
    "a = tf.placeholder('float', [None, 561])\n",
    "b = tf.placeholder('float')\n",
    "\n",
    "def neural_network_model(data):\n",
    "    # define weights and biases for all each layer\n",
    "    hidden_layer = {'weights':tf.Variable(tf.truncated_normal([n_nodes_input, n_nodes_hl], stddev=0.3)),\n",
    "                      'biases':tf.Variable(tf.constant(0.1, shape=[n_nodes_hl]))}\n",
    "    output_layer = {'weights':tf.Variable(tf.truncated_normal([n_nodes_hl, n_classes], stddev=0.3)),\n",
    "                    'biases':tf.Variable(tf.constant(0.1, shape=[n_classes]))}\n",
    "    # feed forward and activations\n",
    "    l1 = tf.add(tf.matmul(data, hidden_layer['weights']), hidden_layer['biases'])\n",
    "    l1 = tf.nn.sigmoid(l1)\n",
    "    output = tf.matmul(l1, output_layer['weights']) + output_layer['biases']\n",
    "    \n",
    "    return output\n",
    "\n",
    "def train_neural_network(a):\n",
    "    prediction = neural_network_model(a)\n",
    "    cost = tf.reduce_mean(tf.nn.sigmoid_cross_entropy_with_logits(labels=b,logits=prediction))\n",
    "    optimizer = tf.train.AdamOptimizer().minimize(cost)\n",
    "    \n",
    "    sess = tf.InteractiveSession()\n",
    "    tf.global_variables_initializer().run()\n",
    "    for epoch in range(1000):\n",
    "        loss = 0\n",
    "        _, c = sess.run([optimizer, cost], feed_dict = {a: X, b: onehoty})\n",
    "        loss += c\n",
    "        if (epoch % 100 == 0 and epoch != 0):\n",
    "            print('Epoch', epoch, 'completed out of', 1000, 'Training loss:', loss)\n",
    "    correct = tf.equal(tf.argmax(prediction,1), tf.argmax(b,1))\n",
    "    accuracy = tf.reduce_mean(tf.cast(correct, tf.float32), name='op_accuracy')\n",
    "    \n",
    "    print('Train set Accuracy:', sess.run(accuracy, feed_dict = {a: X, b: onehoty}))\n",
    "    print('Test set Accuracy:', sess.run(accuracy, feed_dict = {a: X_test, b: onehoty_test}))"
   ]
  },
  {
   "cell_type": "code",
   "execution_count": 111,
   "metadata": {},
   "outputs": [
    {
     "name": "stdout",
     "output_type": "stream",
     "text": [
      "Epoch 100 completed out of 1000 Training loss: 0.4001423120498657\n",
      "Epoch 200 completed out of 1000 Training loss: 0.31283679604530334\n",
      "Epoch 300 completed out of 1000 Training loss: 0.26118847727775574\n",
      "Epoch 400 completed out of 1000 Training loss: 0.22288982570171356\n",
      "Epoch 500 completed out of 1000 Training loss: 0.19147826731204987\n",
      "Epoch 600 completed out of 1000 Training loss: 0.1620955616235733\n",
      "Epoch 700 completed out of 1000 Training loss: 0.13949739933013916\n",
      "Epoch 800 completed out of 1000 Training loss: 0.12147626280784607\n",
      "Epoch 900 completed out of 1000 Training loss: 0.10676330327987671\n",
      "Train set Accuracy: 0.9632753\n",
      "Test set Accuracy: 0.94740415\n"
     ]
    }
   ],
   "source": [
    "train_neural_network(a)"
   ]
  },
  {
   "cell_type": "markdown",
   "metadata": {},
   "source": [
    "### 4 - (2) Ensemble (RandomForest, Bagging, Boosting, Stacking)"
   ]
  },
  {
   "cell_type": "markdown",
   "metadata": {},
   "source": [
    "An obvious approach to making decisions more reliable is to combine the output of different models.<br />\n",
    "\n",
    "RandomForest builds a randomized decision tree. ex) picking one of the N best options at random instead of a single winner.<br />"
   ]
  },
  {
   "cell_type": "code",
   "execution_count": 112,
   "metadata": {},
   "outputs": [
    {
     "data": {
      "text/plain": [
       "0.9093993892093655"
      ]
     },
     "execution_count": 112,
     "metadata": {},
     "output_type": "execute_result"
    }
   ],
   "source": [
    "RFclf0 = RandomForestClassifier()\n",
    "RFclf0 = RFclf0.fit(X, y)\n",
    "RFclf0.score(X_test, y_test)"
   ]
  },
  {
   "cell_type": "code",
   "execution_count": 115,
   "metadata": {},
   "outputs": [
    {
     "data": {
      "text/plain": [
       "0.9134713267729895"
      ]
     },
     "execution_count": 115,
     "metadata": {},
     "output_type": "execute_result"
    }
   ],
   "source": [
    "RFclf1 = RandomForestClassifier()\n",
    "RFclf1 = RFclf1.fit(rfecv_X, y)\n",
    "RFclf1.score(rfecv_X_test, y_test)"
   ]
  },
  {
   "cell_type": "code",
   "execution_count": 116,
   "metadata": {
    "scrolled": true
   },
   "outputs": [
    {
     "data": {
      "text/plain": [
       "Text(0,0.5,'Testing Accuracy')"
      ]
     },
     "execution_count": 116,
     "metadata": {},
     "output_type": "execute_result"
    },
    {
     "data": {
      "image/png": "[encoded data removed]",
      "text/plain": [
       "<matplotlib.figure.Figure at 0x1dac8cb6cf8>"
      ]
     },
     "metadata": {},
     "output_type": "display_data"
    }
   ],
   "source": [
    "x_range = range(10, 25)\n",
    "scores2 = []\n",
    "for x in x_range:\n",
    "    RFclf2 = RandomForestClassifier(n_estimators = x)\n",
    "    RFclf2 = RFclf2.fit(X, y)\n",
    "    scores2.append(RFclf2.score(X_test, y_test))\n",
    "\n",
    "plt.plot(x_range, scores2)\n",
    "plt.xlabel('Number of trees in the forest')\n",
    "plt.ylabel('Testing Accuracy')"
   ]
  },
  {
   "cell_type": "code",
   "execution_count": 134,
   "metadata": {
    "scrolled": true
   },
   "outputs": [
    {
     "data": {
      "text/plain": [
       "0.9209365456396336"
      ]
     },
     "execution_count": 134,
     "metadata": {},
     "output_type": "execute_result"
    }
   ],
   "source": [
    "RFclf3 = RandomForestClassifier(n_estimators = 20)\n",
    "RFclf3 = RFclf3.fit(X, y)\n",
    "RFclf3.score(X_test, y_test)"
   ]
  },
  {
   "cell_type": "code",
   "execution_count": 135,
   "metadata": {},
   "outputs": [
    {
     "data": {
      "text/plain": [
       "0.9083814048184594"
      ]
     },
     "execution_count": 135,
     "metadata": {},
     "output_type": "execute_result"
    }
   ],
   "source": [
    "RFclf4 = RandomForestClassifier(n_estimators = 20)\n",
    "RFclf4 = RFclf4.fit(rfecv_X, y)\n",
    "RFclf4.score(rfecv_X_test, y_test)"
   ]
  },
  {
   "cell_type": "code",
   "execution_count": 136,
   "metadata": {},
   "outputs": [
    {
     "data": {
      "text/plain": [
       "0.9087207329487614"
      ]
     },
     "execution_count": 136,
     "metadata": {},
     "output_type": "execute_result"
    }
   ],
   "source": [
    "RFclf5 = RandomForestClassifier(n_estimators = 16)\n",
    "RFclf5 = RFclf5.fit(threeh_X, y)\n",
    "RFclf5.score(threeh_X_test, y_test)"
   ]
  },
  {
   "cell_type": "markdown",
   "metadata": {},
   "source": [
    "\n",
    "BaggingClassifier makes the models vote. The models receive the equal weight.<br />\n",
    "It is suitable for unstable learning schemes like decision trees."
   ]
  },
  {
   "cell_type": "code",
   "execution_count": 138,
   "metadata": {},
   "outputs": [
    {
     "data": {
      "text/plain": [
       "0.8934509670851714"
      ]
     },
     "execution_count": 138,
     "metadata": {},
     "output_type": "execute_result"
    }
   ],
   "source": [
    "bag0 = BaggingClassifier()\n",
    "bag0 = bag0.fit(X, y)\n",
    "bag0.score(X_test, y_test)"
   ]
  },
  {
   "cell_type": "code",
   "execution_count": 140,
   "metadata": {},
   "outputs": [
    {
     "data": {
      "text/plain": [
       "0.8958262639972854"
      ]
     },
     "execution_count": 140,
     "metadata": {},
     "output_type": "execute_result"
    }
   ],
   "source": [
    "bag1 = BaggingClassifier(base_estimator=KNeighborsClassifier(n_neighbors=3))\n",
    "bag1 = bag1.fit(X, y)\n",
    "bag1.score(X_test, y_test)"
   ]
  },
  {
   "cell_type": "code",
   "execution_count": 139,
   "metadata": {},
   "outputs": [
    {
     "data": {
      "text/plain": [
       "0.9019341703427214"
      ]
     },
     "execution_count": 139,
     "metadata": {},
     "output_type": "execute_result"
    }
   ],
   "source": [
    "bag2 = BaggingClassifier(base_estimator=KNeighborsClassifier(n_neighbors=28))\n",
    "bag2 = bag2.fit(X, y)\n",
    "bag2.score(X_test, y_test)"
   ]
  },
  {
   "cell_type": "markdown",
   "metadata": {},
   "source": [
    "In Boosting, each new model is influenced by the performance of those built previously."
   ]
  },
  {
   "cell_type": "code",
   "execution_count": 141,
   "metadata": {},
   "outputs": [
    {
     "data": {
      "text/plain": [
       "0.5310485239226331"
      ]
     },
     "execution_count": 141,
     "metadata": {},
     "output_type": "execute_result"
    }
   ],
   "source": [
    "ABclf0 = AdaBoostClassifier() #n_estimators=50, learning_rate = 1\n",
    "ABclf0 = ABclf0.fit(X, y)\n",
    "ABclf0.score(X_test, y_test)"
   ]
  },
  {
   "cell_type": "code",
   "execution_count": 142,
   "metadata": {},
   "outputs": [
    {
     "data": {
      "text/plain": [
       "0.7159823549372243"
      ]
     },
     "execution_count": 142,
     "metadata": {},
     "output_type": "execute_result"
    }
   ],
   "source": [
    "ABclf1 = AdaBoostClassifier(n_estimators=200, learning_rate = 0.5)\n",
    "ABclf1 = ABclf1.fit(X, y)\n",
    "ABclf1.score(X_test, y_test)"
   ]
  },
  {
   "cell_type": "code",
   "execution_count": 143,
   "metadata": {},
   "outputs": [
    {
     "data": {
      "text/plain": [
       "0.7560230743128605"
      ]
     },
     "execution_count": 143,
     "metadata": {},
     "output_type": "execute_result"
    }
   ],
   "source": [
    "ABclf2 = AdaBoostClassifier(n_estimators=400, learning_rate = 0.5)\n",
    "ABclf2 = ABclf2.fit(X, y)\n",
    "ABclf2.score(X_test, y_test)"
   ]
  },
  {
   "cell_type": "markdown",
   "metadata": {},
   "source": [
    " \n",
    " \n",
    "Finally I made the good models I found above vote."
   ]
  },
  {
   "cell_type": "code",
   "execution_count": 159,
   "metadata": {},
   "outputs": [
    {
     "name": "stderr",
     "output_type": "stream",
     "text": [
      "C:\\Users\\user\\Anaconda3\\envs\\deeplearning\\lib\\site-packages\\sklearn\\preprocessing\\label.py:151: DeprecationWarning: The truth value of an empty array is ambiguous. Returning False, but in future this will result in an error. Use `array.size > 0` to check that an array is not empty.\n",
      "  if diff:\n"
     ]
    },
    {
     "data": {
      "text/plain": [
       "0.9548693586698337"
      ]
     },
     "execution_count": 159,
     "metadata": {},
     "output_type": "execute_result"
    }
   ],
   "source": [
    "voteclf1 = VotingClassifier(\n",
    "    estimators=[('knn0', KNeighborsClassifier(n_neighbors = 19)), \n",
    "                ('mlp0', MLPClassifier(hidden_layer_sizes=(15, 15))),\n",
    "                ('mlp4', MLPClassifier(hidden_layer_sizes=(20, 20))),\n",
    "                ('RFclf1', RandomForestClassifier())], \n",
    "    voting='soft')\n",
    "voteclf1 = voteclf1.fit(X, y)\n",
    "voteclf1.score(X_test, y_test)"
   ]
  },
  {
   "cell_type": "markdown",
   "metadata": {},
   "source": [
    "This DeprecationWarning is some kind of bug and it's said it will have been fixed by August 2018."
   ]
  },
  {
   "cell_type": "code",
   "execution_count": 158,
   "metadata": {},
   "outputs": [
    {
     "name": "stderr",
     "output_type": "stream",
     "text": [
      "C:\\Users\\user\\Anaconda3\\envs\\deeplearning\\lib\\site-packages\\sklearn\\preprocessing\\label.py:151: DeprecationWarning: The truth value of an empty array is ambiguous. Returning False, but in future this will result in an error. Use `array.size > 0` to check that an array is not empty.\n",
      "  if diff:\n"
     ]
    },
    {
     "data": {
      "text/plain": [
       "0.9630132337970818"
      ]
     },
     "execution_count": 158,
     "metadata": {},
     "output_type": "execute_result"
    }
   ],
   "source": [
    "voteclf2 = VotingClassifier(\n",
    "    estimators=[('knn0', KNeighborsClassifier(n_neighbors = 18)), \n",
    "                ('mlp0', MLPClassifier(hidden_layer_sizes=(15, 15))),\n",
    "                ('mlp4', MLPClassifier(hidden_layer_sizes=(20, 20))),\n",
    "                ('RFclf1', RandomForestClassifier())], \n",
    "    voting='soft')\n",
    "voteclf2 = voteclf2.fit(X, y)\n",
    "voteclf2.score(X_test, y_test)"
   ]
  },
  {
   "cell_type": "code",
   "execution_count": 161,
   "metadata": {},
   "outputs": [
    {
     "name": "stderr",
     "output_type": "stream",
     "text": [
      "C:\\Users\\user\\Anaconda3\\envs\\deeplearning\\lib\\site-packages\\sklearn\\preprocessing\\label.py:151: DeprecationWarning: The truth value of an empty array is ambiguous. Returning False, but in future this will result in an error. Use `array.size > 0` to check that an array is not empty.\n",
      "  if diff:\n"
     ]
    },
    {
     "data": {
      "text/plain": [
       "0.9491007804546997"
      ]
     },
     "execution_count": 161,
     "metadata": {},
     "output_type": "execute_result"
    }
   ],
   "source": [
    "voteclf3 = VotingClassifier(\n",
    "    estimators=[('svcclf0', SVC()),\n",
    "                ('knn0', KNeighborsClassifier(n_neighbors = 18)),\n",
    "                ('RFclf03', RandomForestClassifier(n_estimators = 20)), \n",
    "                ('mlp0', MLPClassifier(hidden_layer_sizes=(15, 15))),\n",
    "                ('mlp4', MLPClassifier(hidden_layer_sizes=(20, 20)))],\n",
    "                 \n",
    "    voting='hard')\n",
    "voteclf3 = voteclf3.fit(X, y)\n",
    "voteclf3.score(X_test, y_test)"
   ]
  },
  {
   "cell_type": "markdown",
   "metadata": {},
   "source": [
    "### Best Model\n",
    "\n",
    "Voteclf2 showed the best performance above all!"
   ]
  },
  {
   "cell_type": "code",
   "execution_count": 162,
   "metadata": {
    "scrolled": true
   },
   "outputs": [
    {
     "name": "stderr",
     "output_type": "stream",
     "text": [
      "C:\\Users\\user\\Anaconda3\\envs\\deeplearning\\lib\\site-packages\\sklearn\\preprocessing\\label.py:151: DeprecationWarning: The truth value of an empty array is ambiguous. Returning False, but in future this will result in an error. Use `array.size > 0` to check that an array is not empty.\n",
      "  if diff:\n"
     ]
    },
    {
     "data": {
      "text/plain": [
       "<matplotlib.axes._subplots.AxesSubplot at 0x1da8343fd30>"
      ]
     },
     "execution_count": 162,
     "metadata": {},
     "output_type": "execute_result"
    },
    {
     "data": {
      "image/png": "[encoded data removed]",
      "text/plain": [
       "<matplotlib.figure.Figure at 0x1da83428080>"
      ]
     },
     "metadata": {},
     "output_type": "display_data"
    }
   ],
   "source": [
    "cm = confusion_matrix(y_test, voteclf2.predict(X_test), labels = class_names)\n",
    "sns.heatmap(cm, annot = True, fmt = \"d\", xticklabels = class_names, yticklabels = class_names)"
   ]
  }
 ],
 "metadata": {
  "kernelspec": {
   "display_name": "Python 3",
   "language": "python",
   "name": "python3"
  },
  "language_info": {
   "codemirror_mode": {
    "name": "ipython",
    "version": 3
   },
   "file_extension": ".py",
   "mimetype": "text/x-python",
   "name": "python",
   "nbconvert_exporter": "python",
   "pygments_lexer": "ipython3",
   "version": "3.6.4"
  }
 },
 "nbformat": 4,
 "nbformat_minor": 2
}
